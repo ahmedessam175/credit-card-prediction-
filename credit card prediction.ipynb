{
 "cells": [
  {
   "cell_type": "markdown",
   "id": "2b3754ca",
   "metadata": {},
   "source": [
    "# credit card "
   ]
  },
  {
   "cell_type": "markdown",
   "id": "e812317f",
   "metadata": {},
   "source": [
    "# Table of Contents\n",
    "* [Introduction](#Introduction)\n",
    "* [Explore Data](#ExploreData)\n",
    "* [Data Cleaning](#clean)\n",
    "    * [Delete Feature](#deletefeature)\n",
    "    * [Drop Duplicates](#dropduplicates)\n",
    "    * [Fill Missing Values](#na)\n",
    "    * [Age Feature](#age)\n",
    "    * [Binary Columns](#bi)\n",
    "    * [Unemployed Feature](#unemp)\n",
    "    * [Years Employed](#yemp)\n",
    "    * [Label Good or Bad Customers](#label)\n",
    "    * [Merge Credit and Application Data](#merge)\n",
    "    * [Rename Columns](#rename)\n",
    "* [The New Data](#newdata)\n",
    "* [Imbalance Ratio](#imb)\n",
    "* [Univariate Analysis](#univariate)\n",
    "* [Exploratory Data Analysis (EDA)](#eda)\n",
    "\n",
    "    "
   ]
  },
  {
   "cell_type": "markdown",
   "id": "61a48637",
   "metadata": {},
   "source": [
    "# Introduction <a class=\"anchor\"  id=\"\"></a>\n",
    "If someone comes to borrow money, would you lend it or not? Why? And if there are 1000 people who come to borrow money, how do you decide who to lend to and who to reject? This is happening in banks, and the decision-making process uses a tool called credit scoring. By using customer data, credit scoring predicts whether a customer will default on their loan after borrowing.\n",
    "\n",
    "In this notebook, we will explore how likely customers are to default on their loans (Bad rate) based on their different characteristics. Let's take a look!"
   ]
  },
  {
   "cell_type": "markdown",
   "id": "1789381d",
   "metadata": {},
   "source": [
    "# data importing"
   ]
  },
  {
   "cell_type": "code",
   "execution_count": 1,
   "id": "3e35d640",
   "metadata": {},
   "outputs": [],
   "source": [
    "import numpy as np\n",
    "import pandas as pd\n",
    "import matplotlib.pyplot as plt\n",
    "import seaborn as sns"
   ]
  },
  {
   "cell_type": "code",
   "execution_count": 2,
   "id": "606a0273",
   "metadata": {},
   "outputs": [
    {
     "data": {
      "text/html": [
       "<div>\n",
       "<style scoped>\n",
       "    .dataframe tbody tr th:only-of-type {\n",
       "        vertical-align: middle;\n",
       "    }\n",
       "\n",
       "    .dataframe tbody tr th {\n",
       "        vertical-align: top;\n",
       "    }\n",
       "\n",
       "    .dataframe thead th {\n",
       "        text-align: right;\n",
       "    }\n",
       "</style>\n",
       "<table border=\"1\" class=\"dataframe\">\n",
       "  <thead>\n",
       "    <tr style=\"text-align: right;\">\n",
       "      <th></th>\n",
       "      <th>ID</th>\n",
       "      <th>CODE_GENDER</th>\n",
       "      <th>FLAG_OWN_CAR</th>\n",
       "      <th>FLAG_OWN_REALTY</th>\n",
       "      <th>CNT_CHILDREN</th>\n",
       "      <th>AMT_INCOME_TOTAL</th>\n",
       "      <th>NAME_INCOME_TYPE</th>\n",
       "      <th>NAME_EDUCATION_TYPE</th>\n",
       "      <th>NAME_FAMILY_STATUS</th>\n",
       "      <th>NAME_HOUSING_TYPE</th>\n",
       "      <th>DAYS_BIRTH</th>\n",
       "      <th>DAYS_EMPLOYED</th>\n",
       "      <th>FLAG_MOBIL</th>\n",
       "      <th>FLAG_WORK_PHONE</th>\n",
       "      <th>FLAG_PHONE</th>\n",
       "      <th>FLAG_EMAIL</th>\n",
       "      <th>OCCUPATION_TYPE</th>\n",
       "      <th>CNT_FAM_MEMBERS</th>\n",
       "    </tr>\n",
       "  </thead>\n",
       "  <tbody>\n",
       "    <tr>\n",
       "      <th>0</th>\n",
       "      <td>5008804</td>\n",
       "      <td>M</td>\n",
       "      <td>Y</td>\n",
       "      <td>Y</td>\n",
       "      <td>0</td>\n",
       "      <td>427500.0</td>\n",
       "      <td>Working</td>\n",
       "      <td>Higher education</td>\n",
       "      <td>Civil marriage</td>\n",
       "      <td>Rented apartment</td>\n",
       "      <td>-12005</td>\n",
       "      <td>-4542</td>\n",
       "      <td>1</td>\n",
       "      <td>1</td>\n",
       "      <td>0</td>\n",
       "      <td>0</td>\n",
       "      <td>NaN</td>\n",
       "      <td>2.0</td>\n",
       "    </tr>\n",
       "    <tr>\n",
       "      <th>1</th>\n",
       "      <td>5008805</td>\n",
       "      <td>M</td>\n",
       "      <td>Y</td>\n",
       "      <td>Y</td>\n",
       "      <td>0</td>\n",
       "      <td>427500.0</td>\n",
       "      <td>Working</td>\n",
       "      <td>Higher education</td>\n",
       "      <td>Civil marriage</td>\n",
       "      <td>Rented apartment</td>\n",
       "      <td>-12005</td>\n",
       "      <td>-4542</td>\n",
       "      <td>1</td>\n",
       "      <td>1</td>\n",
       "      <td>0</td>\n",
       "      <td>0</td>\n",
       "      <td>NaN</td>\n",
       "      <td>2.0</td>\n",
       "    </tr>\n",
       "    <tr>\n",
       "      <th>2</th>\n",
       "      <td>5008806</td>\n",
       "      <td>M</td>\n",
       "      <td>Y</td>\n",
       "      <td>Y</td>\n",
       "      <td>0</td>\n",
       "      <td>112500.0</td>\n",
       "      <td>Working</td>\n",
       "      <td>Secondary / secondary special</td>\n",
       "      <td>Married</td>\n",
       "      <td>House / apartment</td>\n",
       "      <td>-21474</td>\n",
       "      <td>-1134</td>\n",
       "      <td>1</td>\n",
       "      <td>0</td>\n",
       "      <td>0</td>\n",
       "      <td>0</td>\n",
       "      <td>Security staff</td>\n",
       "      <td>2.0</td>\n",
       "    </tr>\n",
       "    <tr>\n",
       "      <th>3</th>\n",
       "      <td>5008808</td>\n",
       "      <td>F</td>\n",
       "      <td>N</td>\n",
       "      <td>Y</td>\n",
       "      <td>0</td>\n",
       "      <td>270000.0</td>\n",
       "      <td>Commercial associate</td>\n",
       "      <td>Secondary / secondary special</td>\n",
       "      <td>Single / not married</td>\n",
       "      <td>House / apartment</td>\n",
       "      <td>-19110</td>\n",
       "      <td>-3051</td>\n",
       "      <td>1</td>\n",
       "      <td>0</td>\n",
       "      <td>1</td>\n",
       "      <td>1</td>\n",
       "      <td>Sales staff</td>\n",
       "      <td>1.0</td>\n",
       "    </tr>\n",
       "    <tr>\n",
       "      <th>4</th>\n",
       "      <td>5008809</td>\n",
       "      <td>F</td>\n",
       "      <td>N</td>\n",
       "      <td>Y</td>\n",
       "      <td>0</td>\n",
       "      <td>270000.0</td>\n",
       "      <td>Commercial associate</td>\n",
       "      <td>Secondary / secondary special</td>\n",
       "      <td>Single / not married</td>\n",
       "      <td>House / apartment</td>\n",
       "      <td>-19110</td>\n",
       "      <td>-3051</td>\n",
       "      <td>1</td>\n",
       "      <td>0</td>\n",
       "      <td>1</td>\n",
       "      <td>1</td>\n",
       "      <td>Sales staff</td>\n",
       "      <td>1.0</td>\n",
       "    </tr>\n",
       "  </tbody>\n",
       "</table>\n",
       "</div>"
      ],
      "text/plain": [
       "        ID CODE_GENDER FLAG_OWN_CAR FLAG_OWN_REALTY  CNT_CHILDREN  \\\n",
       "0  5008804           M            Y               Y             0   \n",
       "1  5008805           M            Y               Y             0   \n",
       "2  5008806           M            Y               Y             0   \n",
       "3  5008808           F            N               Y             0   \n",
       "4  5008809           F            N               Y             0   \n",
       "\n",
       "   AMT_INCOME_TOTAL      NAME_INCOME_TYPE            NAME_EDUCATION_TYPE  \\\n",
       "0          427500.0               Working               Higher education   \n",
       "1          427500.0               Working               Higher education   \n",
       "2          112500.0               Working  Secondary / secondary special   \n",
       "3          270000.0  Commercial associate  Secondary / secondary special   \n",
       "4          270000.0  Commercial associate  Secondary / secondary special   \n",
       "\n",
       "     NAME_FAMILY_STATUS  NAME_HOUSING_TYPE  DAYS_BIRTH  DAYS_EMPLOYED  \\\n",
       "0        Civil marriage   Rented apartment      -12005          -4542   \n",
       "1        Civil marriage   Rented apartment      -12005          -4542   \n",
       "2               Married  House / apartment      -21474          -1134   \n",
       "3  Single / not married  House / apartment      -19110          -3051   \n",
       "4  Single / not married  House / apartment      -19110          -3051   \n",
       "\n",
       "   FLAG_MOBIL  FLAG_WORK_PHONE  FLAG_PHONE  FLAG_EMAIL OCCUPATION_TYPE  \\\n",
       "0           1                1           0           0             NaN   \n",
       "1           1                1           0           0             NaN   \n",
       "2           1                0           0           0  Security staff   \n",
       "3           1                0           1           1     Sales staff   \n",
       "4           1                0           1           1     Sales staff   \n",
       "\n",
       "   CNT_FAM_MEMBERS  \n",
       "0              2.0  \n",
       "1              2.0  \n",
       "2              2.0  \n",
       "3              1.0  \n",
       "4              1.0  "
      ]
     },
     "execution_count": 2,
     "metadata": {},
     "output_type": "execute_result"
    }
   ],
   "source": [
    "data=pd.read_csv('application_record.csv')\n",
    "data.head()"
   ]
  },
  {
   "cell_type": "markdown",
   "id": "9bcc7667",
   "metadata": {},
   "source": [
    "# Explore data"
   ]
  },
  {
   "cell_type": "code",
   "execution_count": 3,
   "id": "c69dc3d7",
   "metadata": {},
   "outputs": [
    {
     "data": {
      "text/plain": [
       "ID                          0\n",
       "CODE_GENDER                 0\n",
       "FLAG_OWN_CAR                0\n",
       "FLAG_OWN_REALTY             0\n",
       "CNT_CHILDREN                0\n",
       "AMT_INCOME_TOTAL            0\n",
       "NAME_INCOME_TYPE            0\n",
       "NAME_EDUCATION_TYPE         0\n",
       "NAME_FAMILY_STATUS          0\n",
       "NAME_HOUSING_TYPE           0\n",
       "DAYS_BIRTH                  0\n",
       "DAYS_EMPLOYED               0\n",
       "FLAG_MOBIL                  0\n",
       "FLAG_WORK_PHONE             0\n",
       "FLAG_PHONE                  0\n",
       "FLAG_EMAIL                  0\n",
       "OCCUPATION_TYPE        134203\n",
       "CNT_FAM_MEMBERS             0\n",
       "dtype: int64"
      ]
     },
     "execution_count": 3,
     "metadata": {},
     "output_type": "execute_result"
    }
   ],
   "source": [
    "data.isnull().sum()"
   ]
  },
  {
   "cell_type": "code",
   "execution_count": 4,
   "id": "c4b52823",
   "metadata": {},
   "outputs": [
    {
     "name": "stdout",
     "output_type": "stream",
     "text": [
      "<class 'pandas.core.frame.DataFrame'>\n",
      "RangeIndex: 438557 entries, 0 to 438556\n",
      "Data columns (total 18 columns):\n",
      " #   Column               Non-Null Count   Dtype  \n",
      "---  ------               --------------   -----  \n",
      " 0   ID                   438557 non-null  int64  \n",
      " 1   CODE_GENDER          438557 non-null  object \n",
      " 2   FLAG_OWN_CAR         438557 non-null  object \n",
      " 3   FLAG_OWN_REALTY      438557 non-null  object \n",
      " 4   CNT_CHILDREN         438557 non-null  int64  \n",
      " 5   AMT_INCOME_TOTAL     438557 non-null  float64\n",
      " 6   NAME_INCOME_TYPE     438557 non-null  object \n",
      " 7   NAME_EDUCATION_TYPE  438557 non-null  object \n",
      " 8   NAME_FAMILY_STATUS   438557 non-null  object \n",
      " 9   NAME_HOUSING_TYPE    438557 non-null  object \n",
      " 10  DAYS_BIRTH           438557 non-null  int64  \n",
      " 11  DAYS_EMPLOYED        438557 non-null  int64  \n",
      " 12  FLAG_MOBIL           438557 non-null  int64  \n",
      " 13  FLAG_WORK_PHONE      438557 non-null  int64  \n",
      " 14  FLAG_PHONE           438557 non-null  int64  \n",
      " 15  FLAG_EMAIL           438557 non-null  int64  \n",
      " 16  OCCUPATION_TYPE      304354 non-null  object \n",
      " 17  CNT_FAM_MEMBERS      438557 non-null  float64\n",
      "dtypes: float64(2), int64(8), object(8)\n",
      "memory usage: 60.2+ MB\n"
     ]
    }
   ],
   "source": [
    "data.info()"
   ]
  },
  {
   "cell_type": "code",
   "execution_count": 5,
   "id": "49ad696b",
   "metadata": {},
   "outputs": [
    {
     "data": {
      "text/html": [
       "<div>\n",
       "<style scoped>\n",
       "    .dataframe tbody tr th:only-of-type {\n",
       "        vertical-align: middle;\n",
       "    }\n",
       "\n",
       "    .dataframe tbody tr th {\n",
       "        vertical-align: top;\n",
       "    }\n",
       "\n",
       "    .dataframe thead th {\n",
       "        text-align: right;\n",
       "    }\n",
       "</style>\n",
       "<table border=\"1\" class=\"dataframe\">\n",
       "  <thead>\n",
       "    <tr style=\"text-align: right;\">\n",
       "      <th></th>\n",
       "      <th>ID</th>\n",
       "      <th>CODE_GENDER</th>\n",
       "      <th>FLAG_OWN_CAR</th>\n",
       "      <th>FLAG_OWN_REALTY</th>\n",
       "      <th>CNT_CHILDREN</th>\n",
       "      <th>AMT_INCOME_TOTAL</th>\n",
       "      <th>NAME_INCOME_TYPE</th>\n",
       "      <th>NAME_EDUCATION_TYPE</th>\n",
       "      <th>NAME_FAMILY_STATUS</th>\n",
       "      <th>NAME_HOUSING_TYPE</th>\n",
       "      <th>DAYS_BIRTH</th>\n",
       "      <th>DAYS_EMPLOYED</th>\n",
       "      <th>FLAG_MOBIL</th>\n",
       "      <th>FLAG_WORK_PHONE</th>\n",
       "      <th>FLAG_PHONE</th>\n",
       "      <th>FLAG_EMAIL</th>\n",
       "      <th>OCCUPATION_TYPE</th>\n",
       "      <th>CNT_FAM_MEMBERS</th>\n",
       "    </tr>\n",
       "  </thead>\n",
       "  <tbody>\n",
       "    <tr>\n",
       "      <th>47966</th>\n",
       "      <td>5146393</td>\n",
       "      <td>F</td>\n",
       "      <td>N</td>\n",
       "      <td>Y</td>\n",
       "      <td>0</td>\n",
       "      <td>198000.0</td>\n",
       "      <td>Pensioner</td>\n",
       "      <td>Secondary / secondary special</td>\n",
       "      <td>Separated</td>\n",
       "      <td>House / apartment</td>\n",
       "      <td>-20514</td>\n",
       "      <td>365243</td>\n",
       "      <td>1</td>\n",
       "      <td>0</td>\n",
       "      <td>0</td>\n",
       "      <td>0</td>\n",
       "      <td>NaN</td>\n",
       "      <td>1.0</td>\n",
       "    </tr>\n",
       "  </tbody>\n",
       "</table>\n",
       "</div>"
      ],
      "text/plain": [
       "            ID CODE_GENDER FLAG_OWN_CAR FLAG_OWN_REALTY  CNT_CHILDREN  \\\n",
       "47966  5146393           F            N               Y             0   \n",
       "\n",
       "       AMT_INCOME_TOTAL NAME_INCOME_TYPE            NAME_EDUCATION_TYPE  \\\n",
       "47966          198000.0        Pensioner  Secondary / secondary special   \n",
       "\n",
       "      NAME_FAMILY_STATUS  NAME_HOUSING_TYPE  DAYS_BIRTH  DAYS_EMPLOYED  \\\n",
       "47966          Separated  House / apartment      -20514         365243   \n",
       "\n",
       "       FLAG_MOBIL  FLAG_WORK_PHONE  FLAG_PHONE  FLAG_EMAIL OCCUPATION_TYPE  \\\n",
       "47966           1                0           0           0             NaN   \n",
       "\n",
       "       CNT_FAM_MEMBERS  \n",
       "47966              1.0  "
      ]
     },
     "execution_count": 5,
     "metadata": {},
     "output_type": "execute_result"
    }
   ],
   "source": [
    "data.sample()"
   ]
  },
  {
   "cell_type": "code",
   "execution_count": 6,
   "id": "ea2e77c3",
   "metadata": {},
   "outputs": [
    {
     "data": {
      "text/plain": [
       "Index(['ID', 'CODE_GENDER', 'FLAG_OWN_CAR', 'FLAG_OWN_REALTY', 'CNT_CHILDREN',\n",
       "       'AMT_INCOME_TOTAL', 'NAME_INCOME_TYPE', 'NAME_EDUCATION_TYPE',\n",
       "       'NAME_FAMILY_STATUS', 'NAME_HOUSING_TYPE', 'DAYS_BIRTH',\n",
       "       'DAYS_EMPLOYED', 'FLAG_MOBIL', 'FLAG_WORK_PHONE', 'FLAG_PHONE',\n",
       "       'FLAG_EMAIL', 'OCCUPATION_TYPE', 'CNT_FAM_MEMBERS'],\n",
       "      dtype='object')"
      ]
     },
     "execution_count": 6,
     "metadata": {},
     "output_type": "execute_result"
    }
   ],
   "source": [
    "data.columns"
   ]
  },
  {
   "cell_type": "code",
   "execution_count": 7,
   "id": "ef1fd9ca",
   "metadata": {},
   "outputs": [
    {
     "data": {
      "text/plain": [
       "(438557, 18)"
      ]
     },
     "execution_count": 7,
     "metadata": {},
     "output_type": "execute_result"
    }
   ],
   "source": [
    "data.shape"
   ]
  },
  {
   "cell_type": "code",
   "execution_count": 8,
   "id": "c0c3348e",
   "metadata": {},
   "outputs": [],
   "source": [
    "data.columns = data.columns.str.lower()"
   ]
  },
  {
   "cell_type": "code",
   "execution_count": 9,
   "id": "5873ff51",
   "metadata": {},
   "outputs": [
    {
     "data": {
      "text/plain": [
       "id                     438510\n",
       "code_gender                 2\n",
       "flag_own_car                2\n",
       "flag_own_realty             2\n",
       "cnt_children               12\n",
       "amt_income_total          866\n",
       "name_income_type            5\n",
       "name_education_type         5\n",
       "name_family_status          5\n",
       "name_housing_type           6\n",
       "days_birth              16379\n",
       "days_employed            9406\n",
       "flag_mobil                  1\n",
       "flag_work_phone             2\n",
       "flag_phone                  2\n",
       "flag_email                  2\n",
       "occupation_type            18\n",
       "cnt_fam_members            13\n",
       "dtype: int64"
      ]
     },
     "execution_count": 9,
     "metadata": {},
     "output_type": "execute_result"
    }
   ],
   "source": [
    "data.nunique()"
   ]
  },
  {
   "cell_type": "code",
   "execution_count": 10,
   "id": "152dd9f0",
   "metadata": {},
   "outputs": [
    {
     "data": {
      "text/plain": [
       "0"
      ]
     },
     "execution_count": 10,
     "metadata": {},
     "output_type": "execute_result"
    }
   ],
   "source": [
    "data.duplicated().sum()"
   ]
  },
  {
   "cell_type": "code",
   "execution_count": 11,
   "id": "44e94695",
   "metadata": {},
   "outputs": [
    {
     "data": {
      "text/html": [
       "<div>\n",
       "<style scoped>\n",
       "    .dataframe tbody tr th:only-of-type {\n",
       "        vertical-align: middle;\n",
       "    }\n",
       "\n",
       "    .dataframe tbody tr th {\n",
       "        vertical-align: top;\n",
       "    }\n",
       "\n",
       "    .dataframe thead th {\n",
       "        text-align: right;\n",
       "    }\n",
       "</style>\n",
       "<table border=\"1\" class=\"dataframe\">\n",
       "  <thead>\n",
       "    <tr style=\"text-align: right;\">\n",
       "      <th></th>\n",
       "      <th>code_gender</th>\n",
       "      <th>flag_own_car</th>\n",
       "      <th>flag_own_realty</th>\n",
       "      <th>name_income_type</th>\n",
       "      <th>name_education_type</th>\n",
       "      <th>name_family_status</th>\n",
       "      <th>name_housing_type</th>\n",
       "      <th>occupation_type</th>\n",
       "    </tr>\n",
       "  </thead>\n",
       "  <tbody>\n",
       "    <tr>\n",
       "      <th>count</th>\n",
       "      <td>438557</td>\n",
       "      <td>438557</td>\n",
       "      <td>438557</td>\n",
       "      <td>438557</td>\n",
       "      <td>438557</td>\n",
       "      <td>438557</td>\n",
       "      <td>438557</td>\n",
       "      <td>304354</td>\n",
       "    </tr>\n",
       "    <tr>\n",
       "      <th>unique</th>\n",
       "      <td>2</td>\n",
       "      <td>2</td>\n",
       "      <td>2</td>\n",
       "      <td>5</td>\n",
       "      <td>5</td>\n",
       "      <td>5</td>\n",
       "      <td>6</td>\n",
       "      <td>18</td>\n",
       "    </tr>\n",
       "    <tr>\n",
       "      <th>top</th>\n",
       "      <td>F</td>\n",
       "      <td>N</td>\n",
       "      <td>Y</td>\n",
       "      <td>Working</td>\n",
       "      <td>Secondary / secondary special</td>\n",
       "      <td>Married</td>\n",
       "      <td>House / apartment</td>\n",
       "      <td>Laborers</td>\n",
       "    </tr>\n",
       "    <tr>\n",
       "      <th>freq</th>\n",
       "      <td>294440</td>\n",
       "      <td>275459</td>\n",
       "      <td>304074</td>\n",
       "      <td>226104</td>\n",
       "      <td>301821</td>\n",
       "      <td>299828</td>\n",
       "      <td>393831</td>\n",
       "      <td>78240</td>\n",
       "    </tr>\n",
       "  </tbody>\n",
       "</table>\n",
       "</div>"
      ],
      "text/plain": [
       "       code_gender flag_own_car flag_own_realty name_income_type  \\\n",
       "count       438557       438557          438557           438557   \n",
       "unique           2            2               2                5   \n",
       "top              F            N               Y          Working   \n",
       "freq        294440       275459          304074           226104   \n",
       "\n",
       "                  name_education_type name_family_status  name_housing_type  \\\n",
       "count                          438557             438557             438557   \n",
       "unique                              5                  5                  6   \n",
       "top     Secondary / secondary special            Married  House / apartment   \n",
       "freq                           301821             299828             393831   \n",
       "\n",
       "       occupation_type  \n",
       "count           304354  \n",
       "unique              18  \n",
       "top           Laborers  \n",
       "freq             78240  "
      ]
     },
     "execution_count": 11,
     "metadata": {},
     "output_type": "execute_result"
    }
   ],
   "source": [
    "data.describe(exclude=[np.number])"
   ]
  },
  {
   "cell_type": "code",
   "execution_count": 12,
   "id": "2c1bb910",
   "metadata": {},
   "outputs": [
    {
     "data": {
      "text/html": [
       "<div>\n",
       "<style scoped>\n",
       "    .dataframe tbody tr th:only-of-type {\n",
       "        vertical-align: middle;\n",
       "    }\n",
       "\n",
       "    .dataframe tbody tr th {\n",
       "        vertical-align: top;\n",
       "    }\n",
       "\n",
       "    .dataframe thead th {\n",
       "        text-align: right;\n",
       "    }\n",
       "</style>\n",
       "<table border=\"1\" class=\"dataframe\">\n",
       "  <thead>\n",
       "    <tr style=\"text-align: right;\">\n",
       "      <th></th>\n",
       "      <th>id</th>\n",
       "      <th>cnt_children</th>\n",
       "      <th>amt_income_total</th>\n",
       "      <th>days_birth</th>\n",
       "      <th>days_employed</th>\n",
       "      <th>flag_mobil</th>\n",
       "      <th>flag_work_phone</th>\n",
       "      <th>flag_phone</th>\n",
       "      <th>flag_email</th>\n",
       "      <th>cnt_fam_members</th>\n",
       "    </tr>\n",
       "  </thead>\n",
       "  <tbody>\n",
       "    <tr>\n",
       "      <th>count</th>\n",
       "      <td>4.385570e+05</td>\n",
       "      <td>438557.000000</td>\n",
       "      <td>4.385570e+05</td>\n",
       "      <td>438557.000000</td>\n",
       "      <td>438557.000000</td>\n",
       "      <td>438557.0</td>\n",
       "      <td>438557.000000</td>\n",
       "      <td>438557.000000</td>\n",
       "      <td>438557.000000</td>\n",
       "      <td>438557.000000</td>\n",
       "    </tr>\n",
       "    <tr>\n",
       "      <th>mean</th>\n",
       "      <td>6.022176e+06</td>\n",
       "      <td>0.427390</td>\n",
       "      <td>1.875243e+05</td>\n",
       "      <td>-15997.904649</td>\n",
       "      <td>60563.675328</td>\n",
       "      <td>1.0</td>\n",
       "      <td>0.206133</td>\n",
       "      <td>0.287771</td>\n",
       "      <td>0.108207</td>\n",
       "      <td>2.194465</td>\n",
       "    </tr>\n",
       "    <tr>\n",
       "      <th>std</th>\n",
       "      <td>5.716370e+05</td>\n",
       "      <td>0.724882</td>\n",
       "      <td>1.100869e+05</td>\n",
       "      <td>4185.030007</td>\n",
       "      <td>138767.799647</td>\n",
       "      <td>0.0</td>\n",
       "      <td>0.404527</td>\n",
       "      <td>0.452724</td>\n",
       "      <td>0.310642</td>\n",
       "      <td>0.897207</td>\n",
       "    </tr>\n",
       "    <tr>\n",
       "      <th>min</th>\n",
       "      <td>5.008804e+06</td>\n",
       "      <td>0.000000</td>\n",
       "      <td>2.610000e+04</td>\n",
       "      <td>-25201.000000</td>\n",
       "      <td>-17531.000000</td>\n",
       "      <td>1.0</td>\n",
       "      <td>0.000000</td>\n",
       "      <td>0.000000</td>\n",
       "      <td>0.000000</td>\n",
       "      <td>1.000000</td>\n",
       "    </tr>\n",
       "    <tr>\n",
       "      <th>25%</th>\n",
       "      <td>5.609375e+06</td>\n",
       "      <td>0.000000</td>\n",
       "      <td>1.215000e+05</td>\n",
       "      <td>-19483.000000</td>\n",
       "      <td>-3103.000000</td>\n",
       "      <td>1.0</td>\n",
       "      <td>0.000000</td>\n",
       "      <td>0.000000</td>\n",
       "      <td>0.000000</td>\n",
       "      <td>2.000000</td>\n",
       "    </tr>\n",
       "    <tr>\n",
       "      <th>50%</th>\n",
       "      <td>6.047745e+06</td>\n",
       "      <td>0.000000</td>\n",
       "      <td>1.607805e+05</td>\n",
       "      <td>-15630.000000</td>\n",
       "      <td>-1467.000000</td>\n",
       "      <td>1.0</td>\n",
       "      <td>0.000000</td>\n",
       "      <td>0.000000</td>\n",
       "      <td>0.000000</td>\n",
       "      <td>2.000000</td>\n",
       "    </tr>\n",
       "    <tr>\n",
       "      <th>75%</th>\n",
       "      <td>6.456971e+06</td>\n",
       "      <td>1.000000</td>\n",
       "      <td>2.250000e+05</td>\n",
       "      <td>-12514.000000</td>\n",
       "      <td>-371.000000</td>\n",
       "      <td>1.0</td>\n",
       "      <td>0.000000</td>\n",
       "      <td>1.000000</td>\n",
       "      <td>0.000000</td>\n",
       "      <td>3.000000</td>\n",
       "    </tr>\n",
       "    <tr>\n",
       "      <th>max</th>\n",
       "      <td>7.999952e+06</td>\n",
       "      <td>19.000000</td>\n",
       "      <td>6.750000e+06</td>\n",
       "      <td>-7489.000000</td>\n",
       "      <td>365243.000000</td>\n",
       "      <td>1.0</td>\n",
       "      <td>1.000000</td>\n",
       "      <td>1.000000</td>\n",
       "      <td>1.000000</td>\n",
       "      <td>20.000000</td>\n",
       "    </tr>\n",
       "  </tbody>\n",
       "</table>\n",
       "</div>"
      ],
      "text/plain": [
       "                 id   cnt_children  amt_income_total     days_birth  \\\n",
       "count  4.385570e+05  438557.000000      4.385570e+05  438557.000000   \n",
       "mean   6.022176e+06       0.427390      1.875243e+05  -15997.904649   \n",
       "std    5.716370e+05       0.724882      1.100869e+05    4185.030007   \n",
       "min    5.008804e+06       0.000000      2.610000e+04  -25201.000000   \n",
       "25%    5.609375e+06       0.000000      1.215000e+05  -19483.000000   \n",
       "50%    6.047745e+06       0.000000      1.607805e+05  -15630.000000   \n",
       "75%    6.456971e+06       1.000000      2.250000e+05  -12514.000000   \n",
       "max    7.999952e+06      19.000000      6.750000e+06   -7489.000000   \n",
       "\n",
       "       days_employed  flag_mobil  flag_work_phone     flag_phone  \\\n",
       "count  438557.000000    438557.0    438557.000000  438557.000000   \n",
       "mean    60563.675328         1.0         0.206133       0.287771   \n",
       "std    138767.799647         0.0         0.404527       0.452724   \n",
       "min    -17531.000000         1.0         0.000000       0.000000   \n",
       "25%     -3103.000000         1.0         0.000000       0.000000   \n",
       "50%     -1467.000000         1.0         0.000000       0.000000   \n",
       "75%      -371.000000         1.0         0.000000       1.000000   \n",
       "max    365243.000000         1.0         1.000000       1.000000   \n",
       "\n",
       "          flag_email  cnt_fam_members  \n",
       "count  438557.000000    438557.000000  \n",
       "mean        0.108207         2.194465  \n",
       "std         0.310642         0.897207  \n",
       "min         0.000000         1.000000  \n",
       "25%         0.000000         2.000000  \n",
       "50%         0.000000         2.000000  \n",
       "75%         0.000000         3.000000  \n",
       "max         1.000000        20.000000  "
      ]
     },
     "execution_count": 12,
     "metadata": {},
     "output_type": "execute_result"
    }
   ],
   "source": [
    "data.describe()"
   ]
  },
  {
   "cell_type": "code",
   "execution_count": 13,
   "id": "95abdf9a",
   "metadata": {},
   "outputs": [
    {
     "data": {
      "text/plain": [
       "0               NaN\n",
       "1               NaN\n",
       "2    Security staff\n",
       "3       Sales staff\n",
       "4       Sales staff\n",
       "Name: occupation_type, dtype: object"
      ]
     },
     "execution_count": 13,
     "metadata": {},
     "output_type": "execute_result"
    }
   ],
   "source": [
    "data['occupation_type'].fillna(method=\"ffill\", inplace=True)\n",
    "data['occupation_type'].head()"
   ]
  },
  {
   "cell_type": "code",
   "execution_count": null,
   "id": "81cccdc2",
   "metadata": {},
   "outputs": [],
   "source": []
  },
  {
   "cell_type": "code",
   "execution_count": 14,
   "id": "727a2573",
   "metadata": {},
   "outputs": [
    {
     "data": {
      "text/html": [
       "<div>\n",
       "<style scoped>\n",
       "    .dataframe tbody tr th:only-of-type {\n",
       "        vertical-align: middle;\n",
       "    }\n",
       "\n",
       "    .dataframe tbody tr th {\n",
       "        vertical-align: top;\n",
       "    }\n",
       "\n",
       "    .dataframe thead th {\n",
       "        text-align: right;\n",
       "    }\n",
       "</style>\n",
       "<table border=\"1\" class=\"dataframe\">\n",
       "  <thead>\n",
       "    <tr style=\"text-align: right;\">\n",
       "      <th></th>\n",
       "      <th>id</th>\n",
       "      <th>code_gender</th>\n",
       "      <th>flag_own_car</th>\n",
       "      <th>flag_own_realty</th>\n",
       "      <th>cnt_children</th>\n",
       "      <th>amt_income_total</th>\n",
       "      <th>name_income_type</th>\n",
       "      <th>name_education_type</th>\n",
       "      <th>name_family_status</th>\n",
       "      <th>name_housing_type</th>\n",
       "      <th>days_birth</th>\n",
       "      <th>days_employed</th>\n",
       "      <th>flag_mobil</th>\n",
       "      <th>flag_work_phone</th>\n",
       "      <th>flag_phone</th>\n",
       "      <th>flag_email</th>\n",
       "      <th>occupation_type</th>\n",
       "      <th>cnt_fam_members</th>\n",
       "    </tr>\n",
       "  </thead>\n",
       "  <tbody>\n",
       "    <tr>\n",
       "      <th>45219</th>\n",
       "      <td>5135900</td>\n",
       "      <td>F</td>\n",
       "      <td>N</td>\n",
       "      <td>Y</td>\n",
       "      <td>2</td>\n",
       "      <td>90000.0</td>\n",
       "      <td>State servant</td>\n",
       "      <td>Secondary / secondary special</td>\n",
       "      <td>Civil marriage</td>\n",
       "      <td>House / apartment</td>\n",
       "      <td>-12724</td>\n",
       "      <td>-2635</td>\n",
       "      <td>1</td>\n",
       "      <td>1</td>\n",
       "      <td>0</td>\n",
       "      <td>0</td>\n",
       "      <td>Core staff</td>\n",
       "      <td>4.0</td>\n",
       "    </tr>\n",
       "    <tr>\n",
       "      <th>84932</th>\n",
       "      <td>6052516</td>\n",
       "      <td>F</td>\n",
       "      <td>Y</td>\n",
       "      <td>Y</td>\n",
       "      <td>0</td>\n",
       "      <td>112500.0</td>\n",
       "      <td>Working</td>\n",
       "      <td>Secondary / secondary special</td>\n",
       "      <td>Married</td>\n",
       "      <td>House / apartment</td>\n",
       "      <td>-16901</td>\n",
       "      <td>-7731</td>\n",
       "      <td>1</td>\n",
       "      <td>0</td>\n",
       "      <td>0</td>\n",
       "      <td>0</td>\n",
       "      <td>Sales staff</td>\n",
       "      <td>2.0</td>\n",
       "    </tr>\n",
       "    <tr>\n",
       "      <th>343652</th>\n",
       "      <td>6415351</td>\n",
       "      <td>M</td>\n",
       "      <td>Y</td>\n",
       "      <td>N</td>\n",
       "      <td>2</td>\n",
       "      <td>180000.0</td>\n",
       "      <td>Commercial associate</td>\n",
       "      <td>Secondary / secondary special</td>\n",
       "      <td>Married</td>\n",
       "      <td>House / apartment</td>\n",
       "      <td>-16647</td>\n",
       "      <td>-2150</td>\n",
       "      <td>1</td>\n",
       "      <td>0</td>\n",
       "      <td>0</td>\n",
       "      <td>0</td>\n",
       "      <td>Drivers</td>\n",
       "      <td>4.0</td>\n",
       "    </tr>\n",
       "    <tr>\n",
       "      <th>57435</th>\n",
       "      <td>5679121</td>\n",
       "      <td>F</td>\n",
       "      <td>Y</td>\n",
       "      <td>Y</td>\n",
       "      <td>0</td>\n",
       "      <td>180000.0</td>\n",
       "      <td>Working</td>\n",
       "      <td>Secondary / secondary special</td>\n",
       "      <td>Married</td>\n",
       "      <td>House / apartment</td>\n",
       "      <td>-13954</td>\n",
       "      <td>-190</td>\n",
       "      <td>1</td>\n",
       "      <td>0</td>\n",
       "      <td>0</td>\n",
       "      <td>0</td>\n",
       "      <td>Sales staff</td>\n",
       "      <td>2.0</td>\n",
       "    </tr>\n",
       "    <tr>\n",
       "      <th>412378</th>\n",
       "      <td>6782035</td>\n",
       "      <td>M</td>\n",
       "      <td>Y</td>\n",
       "      <td>N</td>\n",
       "      <td>0</td>\n",
       "      <td>81000.0</td>\n",
       "      <td>Pensioner</td>\n",
       "      <td>Secondary / secondary special</td>\n",
       "      <td>Married</td>\n",
       "      <td>House / apartment</td>\n",
       "      <td>-22990</td>\n",
       "      <td>365243</td>\n",
       "      <td>1</td>\n",
       "      <td>0</td>\n",
       "      <td>0</td>\n",
       "      <td>0</td>\n",
       "      <td>Laborers</td>\n",
       "      <td>2.0</td>\n",
       "    </tr>\n",
       "  </tbody>\n",
       "</table>\n",
       "</div>"
      ],
      "text/plain": [
       "             id code_gender flag_own_car flag_own_realty  cnt_children  \\\n",
       "45219   5135900           F            N               Y             2   \n",
       "84932   6052516           F            Y               Y             0   \n",
       "343652  6415351           M            Y               N             2   \n",
       "57435   5679121           F            Y               Y             0   \n",
       "412378  6782035           M            Y               N             0   \n",
       "\n",
       "        amt_income_total      name_income_type            name_education_type  \\\n",
       "45219            90000.0         State servant  Secondary / secondary special   \n",
       "84932           112500.0               Working  Secondary / secondary special   \n",
       "343652          180000.0  Commercial associate  Secondary / secondary special   \n",
       "57435           180000.0               Working  Secondary / secondary special   \n",
       "412378           81000.0             Pensioner  Secondary / secondary special   \n",
       "\n",
       "       name_family_status  name_housing_type  days_birth  days_employed  \\\n",
       "45219      Civil marriage  House / apartment      -12724          -2635   \n",
       "84932             Married  House / apartment      -16901          -7731   \n",
       "343652            Married  House / apartment      -16647          -2150   \n",
       "57435             Married  House / apartment      -13954           -190   \n",
       "412378            Married  House / apartment      -22990         365243   \n",
       "\n",
       "        flag_mobil  flag_work_phone  flag_phone  flag_email occupation_type  \\\n",
       "45219            1                1           0           0      Core staff   \n",
       "84932            1                0           0           0     Sales staff   \n",
       "343652           1                0           0           0         Drivers   \n",
       "57435            1                0           0           0     Sales staff   \n",
       "412378           1                0           0           0        Laborers   \n",
       "\n",
       "        cnt_fam_members  \n",
       "45219               4.0  \n",
       "84932               2.0  \n",
       "343652              4.0  \n",
       "57435               2.0  \n",
       "412378              2.0  "
      ]
     },
     "execution_count": 14,
     "metadata": {},
     "output_type": "execute_result"
    }
   ],
   "source": [
    "data.sample(5)"
   ]
  },
  {
   "cell_type": "code",
   "execution_count": 15,
   "id": "66beefe6",
   "metadata": {},
   "outputs": [
    {
     "data": {
      "text/plain": [
       "Index(['id', 'code_gender', 'flag_own_car', 'flag_own_realty', 'cnt_children',\n",
       "       'amt_income_total', 'name_income_type', 'name_education_type',\n",
       "       'name_family_status', 'name_housing_type', 'days_birth',\n",
       "       'days_employed', 'flag_mobil', 'flag_work_phone', 'flag_phone',\n",
       "       'flag_email', 'occupation_type', 'cnt_fam_members'],\n",
       "      dtype='object')"
      ]
     },
     "execution_count": 15,
     "metadata": {},
     "output_type": "execute_result"
    }
   ],
   "source": [
    "data.columns"
   ]
  },
  {
   "cell_type": "code",
   "execution_count": 16,
   "id": "dd07c461",
   "metadata": {},
   "outputs": [],
   "source": [
    "col=['code_gender', 'flag_own_car', 'flag_own_realty', 'cnt_children',\n",
    "       'amt_income_total', 'name_income_type', 'name_education_type',\n",
    "       'name_family_status', 'name_housing_type', 'days_birth',\n",
    "       'days_employed', 'flag_mobil', 'flag_work_phone', 'flag_phone',\n",
    "       'flag_email', 'occupation_type', 'cnt_fam_members']"
   ]
  },
  {
   "cell_type": "code",
   "execution_count": 17,
   "id": "787557d2",
   "metadata": {},
   "outputs": [
    {
     "name": "stdout",
     "output_type": "stream",
     "text": [
      "code_gender\n",
      "----------\n",
      "F    294440\n",
      "M    144117\n",
      "Name: code_gender, dtype: int64\n",
      "****************************************************************************************************\n",
      "flag_own_car\n",
      "----------\n",
      "N    275459\n",
      "Y    163098\n",
      "Name: flag_own_car, dtype: int64\n",
      "****************************************************************************************************\n",
      "flag_own_realty\n",
      "----------\n",
      "Y    304074\n",
      "N    134483\n",
      "Name: flag_own_realty, dtype: int64\n",
      "****************************************************************************************************\n",
      "cnt_children\n",
      "----------\n",
      "0     304071\n",
      "1      88527\n",
      "2      39884\n",
      "3       5430\n",
      "4        486\n",
      "5        133\n",
      "7          9\n",
      "9          5\n",
      "12         4\n",
      "6          4\n",
      "14         3\n",
      "19         1\n",
      "Name: cnt_children, dtype: int64\n",
      "****************************************************************************************************\n",
      "amt_income_total\n",
      "----------\n",
      "135000.0    46879\n",
      "157500.0    39768\n",
      "180000.0    37912\n",
      "112500.0    36979\n",
      "225000.0    34130\n",
      "            ...  \n",
      "151425.0        1\n",
      "133461.0        1\n",
      "265950.0        1\n",
      "201150.0        1\n",
      "36679.5         1\n",
      "Name: amt_income_total, Length: 866, dtype: int64\n",
      "****************************************************************************************************\n",
      "name_income_type\n",
      "----------\n",
      "Working                 226104\n",
      "Commercial associate    100757\n",
      "Pensioner                75493\n",
      "State servant            36186\n",
      "Student                     17\n",
      "Name: name_income_type, dtype: int64\n",
      "****************************************************************************************************\n",
      "name_education_type\n",
      "----------\n",
      "Secondary / secondary special    301821\n",
      "Higher education                 117522\n",
      "Incomplete higher                 14851\n",
      "Lower secondary                    4051\n",
      "Academic degree                     312\n",
      "Name: name_education_type, dtype: int64\n",
      "****************************************************************************************************\n",
      "name_family_status\n",
      "----------\n",
      "Married                 299828\n",
      "Single / not married     55271\n",
      "Civil marriage           36532\n",
      "Separated                27251\n",
      "Widow                    19675\n",
      "Name: name_family_status, dtype: int64\n",
      "****************************************************************************************************\n",
      "name_housing_type\n",
      "----------\n",
      "House / apartment      393831\n",
      "With parents            19077\n",
      "Municipal apartment     14214\n",
      "Rented apartment         5974\n",
      "Office apartment         3922\n",
      "Co-op apartment          1539\n",
      "Name: name_housing_type, dtype: int64\n",
      "****************************************************************************************************\n",
      "days_birth\n",
      "----------\n",
      "-11707    150\n",
      "-14178    121\n",
      "-14400    116\n",
      "-13482    112\n",
      "-13274    112\n",
      "         ... \n",
      "-8207       1\n",
      "-8286       1\n",
      "-12793      1\n",
      "-24592      1\n",
      "-8590       1\n",
      "Name: days_birth, Length: 16379, dtype: int64\n",
      "****************************************************************************************************\n",
      "days_employed\n",
      "----------\n",
      " 365243    75329\n",
      "-218         262\n",
      "-1678        251\n",
      "-249         241\n",
      "-978         240\n",
      "           ...  \n",
      "-13529         1\n",
      "-10223         1\n",
      "-8917          1\n",
      "-11429         1\n",
      "-8105          1\n",
      "Name: days_employed, Length: 9406, dtype: int64\n",
      "****************************************************************************************************\n",
      "flag_mobil\n",
      "----------\n",
      "1    438557\n",
      "Name: flag_mobil, dtype: int64\n",
      "****************************************************************************************************\n",
      "flag_work_phone\n",
      "----------\n",
      "0    348156\n",
      "1     90401\n",
      "Name: flag_work_phone, dtype: int64\n",
      "****************************************************************************************************\n",
      "flag_phone\n",
      "----------\n",
      "0    312353\n",
      "1    126204\n",
      "Name: flag_phone, dtype: int64\n",
      "****************************************************************************************************\n",
      "flag_email\n",
      "----------\n",
      "0    391102\n",
      "1     47455\n",
      "Name: flag_email, dtype: int64\n",
      "****************************************************************************************************\n",
      "occupation_type\n",
      "----------\n",
      "Laborers                 114122\n",
      "Sales staff               60386\n",
      "Core staff                60066\n",
      "Managers                  49814\n",
      "Drivers                   38818\n",
      "High skill tech staff     24902\n",
      "Accountants               22198\n",
      "Medicine staff            18968\n",
      "Cooking staff             12052\n",
      "Security staff            11887\n",
      "Cleaning staff             8513\n",
      "Private service staff      4947\n",
      "Low-skill Laborers         3266\n",
      "Secretaries                2774\n",
      "Waiters/barmen staff       2483\n",
      "Realty agents              1443\n",
      "HR staff                   1050\n",
      "IT staff                    866\n",
      "Name: occupation_type, dtype: int64\n",
      "****************************************************************************************************\n",
      "cnt_fam_members\n",
      "----------\n",
      "2.0     233891\n",
      "1.0      84492\n",
      "3.0      77128\n",
      "4.0      37356\n",
      "5.0       5081\n",
      "6.0        459\n",
      "7.0        124\n",
      "9.0          9\n",
      "11.0         5\n",
      "14.0         4\n",
      "8.0          4\n",
      "15.0         3\n",
      "20.0         1\n",
      "Name: cnt_fam_members, dtype: int64\n",
      "****************************************************************************************************\n"
     ]
    }
   ],
   "source": [
    "for i in (col):\n",
    "    print(i)\n",
    "    print('-'*10)\n",
    "    print(data[i].value_counts())\n",
    "    print('*'*100)"
   ]
  },
  {
   "cell_type": "code",
   "execution_count": 18,
   "id": "4a4bdfe2",
   "metadata": {},
   "outputs": [
    {
     "data": {
      "text/plain": [
       "2"
      ]
     },
     "execution_count": 18,
     "metadata": {},
     "output_type": "execute_result"
    }
   ],
   "source": [
    "data.isnull().sum().sum()"
   ]
  },
  {
   "cell_type": "code",
   "execution_count": 19,
   "id": "398864fc",
   "metadata": {},
   "outputs": [],
   "source": [
    "data.dropna(inplace=True)"
   ]
  },
  {
   "cell_type": "code",
   "execution_count": 20,
   "id": "3e69b9ab",
   "metadata": {},
   "outputs": [
    {
     "data": {
      "text/plain": [
       "0"
      ]
     },
     "execution_count": 20,
     "metadata": {},
     "output_type": "execute_result"
    }
   ],
   "source": [
    "data.isnull().sum().sum()"
   ]
  },
  {
   "cell_type": "code",
   "execution_count": 21,
   "id": "ee9e205d",
   "metadata": {},
   "outputs": [
    {
     "data": {
      "text/html": [
       "<div>\n",
       "<style scoped>\n",
       "    .dataframe tbody tr th:only-of-type {\n",
       "        vertical-align: middle;\n",
       "    }\n",
       "\n",
       "    .dataframe tbody tr th {\n",
       "        vertical-align: top;\n",
       "    }\n",
       "\n",
       "    .dataframe thead th {\n",
       "        text-align: right;\n",
       "    }\n",
       "</style>\n",
       "<table border=\"1\" class=\"dataframe\">\n",
       "  <thead>\n",
       "    <tr style=\"text-align: right;\">\n",
       "      <th></th>\n",
       "      <th>id</th>\n",
       "      <th>code_gender</th>\n",
       "      <th>flag_own_car</th>\n",
       "      <th>flag_own_realty</th>\n",
       "      <th>cnt_children</th>\n",
       "      <th>amt_income_total</th>\n",
       "      <th>name_income_type</th>\n",
       "      <th>name_education_type</th>\n",
       "      <th>name_family_status</th>\n",
       "      <th>name_housing_type</th>\n",
       "      <th>days_birth</th>\n",
       "      <th>days_employed</th>\n",
       "      <th>flag_mobil</th>\n",
       "      <th>flag_work_phone</th>\n",
       "      <th>flag_phone</th>\n",
       "      <th>flag_email</th>\n",
       "      <th>occupation_type</th>\n",
       "      <th>cnt_fam_members</th>\n",
       "    </tr>\n",
       "  </thead>\n",
       "  <tbody>\n",
       "    <tr>\n",
       "      <th>212252</th>\n",
       "      <td>5942874</td>\n",
       "      <td>F</td>\n",
       "      <td>N</td>\n",
       "      <td>Y</td>\n",
       "      <td>1</td>\n",
       "      <td>180000.0</td>\n",
       "      <td>State servant</td>\n",
       "      <td>Higher education</td>\n",
       "      <td>Married</td>\n",
       "      <td>House / apartment</td>\n",
       "      <td>-13268</td>\n",
       "      <td>-3499</td>\n",
       "      <td>1</td>\n",
       "      <td>0</td>\n",
       "      <td>0</td>\n",
       "      <td>0</td>\n",
       "      <td>Core staff</td>\n",
       "      <td>3.0</td>\n",
       "    </tr>\n",
       "    <tr>\n",
       "      <th>277862</th>\n",
       "      <td>6109099</td>\n",
       "      <td>M</td>\n",
       "      <td>Y</td>\n",
       "      <td>N</td>\n",
       "      <td>0</td>\n",
       "      <td>157500.0</td>\n",
       "      <td>Working</td>\n",
       "      <td>Secondary / secondary special</td>\n",
       "      <td>Married</td>\n",
       "      <td>House / apartment</td>\n",
       "      <td>-19649</td>\n",
       "      <td>-3217</td>\n",
       "      <td>1</td>\n",
       "      <td>0</td>\n",
       "      <td>0</td>\n",
       "      <td>0</td>\n",
       "      <td>Laborers</td>\n",
       "      <td>2.0</td>\n",
       "    </tr>\n",
       "    <tr>\n",
       "      <th>428193</th>\n",
       "      <td>7471745</td>\n",
       "      <td>F</td>\n",
       "      <td>N</td>\n",
       "      <td>Y</td>\n",
       "      <td>1</td>\n",
       "      <td>382500.0</td>\n",
       "      <td>Working</td>\n",
       "      <td>Higher education</td>\n",
       "      <td>Separated</td>\n",
       "      <td>House / apartment</td>\n",
       "      <td>-17383</td>\n",
       "      <td>-4102</td>\n",
       "      <td>1</td>\n",
       "      <td>0</td>\n",
       "      <td>0</td>\n",
       "      <td>0</td>\n",
       "      <td>Core staff</td>\n",
       "      <td>2.0</td>\n",
       "    </tr>\n",
       "  </tbody>\n",
       "</table>\n",
       "</div>"
      ],
      "text/plain": [
       "             id code_gender flag_own_car flag_own_realty  cnt_children  \\\n",
       "212252  5942874           F            N               Y             1   \n",
       "277862  6109099           M            Y               N             0   \n",
       "428193  7471745           F            N               Y             1   \n",
       "\n",
       "        amt_income_total name_income_type            name_education_type  \\\n",
       "212252          180000.0    State servant               Higher education   \n",
       "277862          157500.0          Working  Secondary / secondary special   \n",
       "428193          382500.0          Working               Higher education   \n",
       "\n",
       "       name_family_status  name_housing_type  days_birth  days_employed  \\\n",
       "212252            Married  House / apartment      -13268          -3499   \n",
       "277862            Married  House / apartment      -19649          -3217   \n",
       "428193          Separated  House / apartment      -17383          -4102   \n",
       "\n",
       "        flag_mobil  flag_work_phone  flag_phone  flag_email occupation_type  \\\n",
       "212252           1                0           0           0      Core staff   \n",
       "277862           1                0           0           0        Laborers   \n",
       "428193           1                0           0           0      Core staff   \n",
       "\n",
       "        cnt_fam_members  \n",
       "212252              3.0  \n",
       "277862              2.0  \n",
       "428193              2.0  "
      ]
     },
     "execution_count": 21,
     "metadata": {},
     "output_type": "execute_result"
    }
   ],
   "source": [
    "data.sample(3)"
   ]
  },
  {
   "cell_type": "code",
   "execution_count": 22,
   "id": "1fd09cb4",
   "metadata": {},
   "outputs": [
    {
     "data": {
      "text/plain": [
       "id                       int64\n",
       "code_gender             object\n",
       "flag_own_car            object\n",
       "flag_own_realty         object\n",
       "cnt_children             int64\n",
       "amt_income_total       float64\n",
       "name_income_type        object\n",
       "name_education_type     object\n",
       "name_family_status      object\n",
       "name_housing_type       object\n",
       "days_birth               int64\n",
       "days_employed            int64\n",
       "flag_mobil               int64\n",
       "flag_work_phone          int64\n",
       "flag_phone               int64\n",
       "flag_email               int64\n",
       "occupation_type         object\n",
       "cnt_fam_members        float64\n",
       "dtype: object"
      ]
     },
     "execution_count": 22,
     "metadata": {},
     "output_type": "execute_result"
    }
   ],
   "source": [
    "data.dtypes"
   ]
  },
  {
   "cell_type": "code",
   "execution_count": 23,
   "id": "cdfb1f9a",
   "metadata": {},
   "outputs": [
    {
     "data": {
      "text/plain": [
       "0"
      ]
     },
     "execution_count": 23,
     "metadata": {},
     "output_type": "execute_result"
    }
   ],
   "source": [
    "data.duplicated().sum()"
   ]
  },
  {
   "cell_type": "code",
   "execution_count": 24,
   "id": "02c5cb2d",
   "metadata": {},
   "outputs": [
    {
     "data": {
      "text/plain": [
       "(438555, 18)"
      ]
     },
     "execution_count": 24,
     "metadata": {},
     "output_type": "execute_result"
    }
   ],
   "source": [
    "data.shape"
   ]
  },
  {
   "cell_type": "code",
   "execution_count": 25,
   "id": "e395e84b",
   "metadata": {},
   "outputs": [
    {
     "data": {
      "text/plain": [
       "94135"
      ]
     },
     "execution_count": 25,
     "metadata": {},
     "output_type": "execute_result"
    }
   ],
   "source": [
    "438555-344420"
   ]
  },
  {
   "cell_type": "code",
   "execution_count": 26,
   "id": "3c151b2f",
   "metadata": {},
   "outputs": [],
   "source": [
    "data = data.drop_duplicates(subset=data.columns[1:], keep='first')"
   ]
  },
  {
   "cell_type": "code",
   "execution_count": 27,
   "id": "ee46c275",
   "metadata": {},
   "outputs": [
    {
     "data": {
      "text/plain": [
       "(94135, 18)"
      ]
     },
     "execution_count": 27,
     "metadata": {},
     "output_type": "execute_result"
    }
   ],
   "source": [
    "data.shape"
   ]
  },
  {
   "cell_type": "code",
   "execution_count": 28,
   "id": "9f101a1b",
   "metadata": {},
   "outputs": [],
   "source": [
    "data[\"code_gender\"].replace(['F','M'], [1,0], inplace=True)\n",
    "data[\"flag_own_car\"].replace(['Y','N'], [1,0], inplace=True)\n",
    "data[\"flag_own_realty\"].replace(['Y','N'], [1,0], inplace=True)"
   ]
  },
  {
   "cell_type": "code",
   "execution_count": 29,
   "id": "1926354f",
   "metadata": {},
   "outputs": [
    {
     "data": {
      "text/html": [
       "<div>\n",
       "<style scoped>\n",
       "    .dataframe tbody tr th:only-of-type {\n",
       "        vertical-align: middle;\n",
       "    }\n",
       "\n",
       "    .dataframe tbody tr th {\n",
       "        vertical-align: top;\n",
       "    }\n",
       "\n",
       "    .dataframe thead th {\n",
       "        text-align: right;\n",
       "    }\n",
       "</style>\n",
       "<table border=\"1\" class=\"dataframe\">\n",
       "  <thead>\n",
       "    <tr style=\"text-align: right;\">\n",
       "      <th></th>\n",
       "      <th>id</th>\n",
       "      <th>code_gender</th>\n",
       "      <th>flag_own_car</th>\n",
       "      <th>flag_own_realty</th>\n",
       "      <th>cnt_children</th>\n",
       "      <th>amt_income_total</th>\n",
       "      <th>name_income_type</th>\n",
       "      <th>name_education_type</th>\n",
       "      <th>name_family_status</th>\n",
       "      <th>name_housing_type</th>\n",
       "      <th>days_birth</th>\n",
       "      <th>days_employed</th>\n",
       "      <th>flag_mobil</th>\n",
       "      <th>flag_work_phone</th>\n",
       "      <th>flag_phone</th>\n",
       "      <th>flag_email</th>\n",
       "      <th>occupation_type</th>\n",
       "      <th>cnt_fam_members</th>\n",
       "    </tr>\n",
       "  </thead>\n",
       "  <tbody>\n",
       "    <tr>\n",
       "      <th>93925</th>\n",
       "      <td>5377272</td>\n",
       "      <td>1</td>\n",
       "      <td>1</td>\n",
       "      <td>1</td>\n",
       "      <td>1</td>\n",
       "      <td>135000.0</td>\n",
       "      <td>Working</td>\n",
       "      <td>Incomplete higher</td>\n",
       "      <td>Married</td>\n",
       "      <td>House / apartment</td>\n",
       "      <td>-10321</td>\n",
       "      <td>-1701</td>\n",
       "      <td>1</td>\n",
       "      <td>0</td>\n",
       "      <td>1</td>\n",
       "      <td>0</td>\n",
       "      <td>Accountants</td>\n",
       "      <td>3.0</td>\n",
       "    </tr>\n",
       "  </tbody>\n",
       "</table>\n",
       "</div>"
      ],
      "text/plain": [
       "            id  code_gender  flag_own_car  flag_own_realty  cnt_children  \\\n",
       "93925  5377272            1             1                1             1   \n",
       "\n",
       "       amt_income_total name_income_type name_education_type  \\\n",
       "93925          135000.0          Working   Incomplete higher   \n",
       "\n",
       "      name_family_status  name_housing_type  days_birth  days_employed  \\\n",
       "93925            Married  House / apartment      -10321          -1701   \n",
       "\n",
       "       flag_mobil  flag_work_phone  flag_phone  flag_email occupation_type  \\\n",
       "93925           1                0           1           0     Accountants   \n",
       "\n",
       "       cnt_fam_members  \n",
       "93925              3.0  "
      ]
     },
     "execution_count": 29,
     "metadata": {},
     "output_type": "execute_result"
    }
   ],
   "source": [
    "data.sample()"
   ]
  },
  {
   "cell_type": "code",
   "execution_count": 30,
   "id": "35c92371",
   "metadata": {},
   "outputs": [
    {
     "name": "stdout",
     "output_type": "stream",
     "text": [
      "years_employed column:\n",
      "2     3.1\n",
      "3     8.4\n",
      "7     0.0\n",
      "10    2.1\n",
      "13    3.3\n",
      "Name: years_employed, dtype: float64\n"
     ]
    }
   ],
   "source": [
    "data['years_employed'] = round((-data['days_employed']/365.25), 1)\n",
    "data.loc[data['years_employed']<0, 'years_employed']=0\n",
    "\n",
    "print('years_employed column:')\n",
    "print(data['years_employed'].head())"
   ]
  },
  {
   "cell_type": "code",
   "execution_count": 31,
   "id": "0e0c6294",
   "metadata": {},
   "outputs": [
    {
     "data": {
      "text/html": [
       "<div>\n",
       "<style scoped>\n",
       "    .dataframe tbody tr th:only-of-type {\n",
       "        vertical-align: middle;\n",
       "    }\n",
       "\n",
       "    .dataframe tbody tr th {\n",
       "        vertical-align: top;\n",
       "    }\n",
       "\n",
       "    .dataframe thead th {\n",
       "        text-align: right;\n",
       "    }\n",
       "</style>\n",
       "<table border=\"1\" class=\"dataframe\">\n",
       "  <thead>\n",
       "    <tr style=\"text-align: right;\">\n",
       "      <th></th>\n",
       "      <th>id</th>\n",
       "      <th>code_gender</th>\n",
       "      <th>flag_own_car</th>\n",
       "      <th>flag_own_realty</th>\n",
       "      <th>cnt_children</th>\n",
       "      <th>amt_income_total</th>\n",
       "      <th>name_income_type</th>\n",
       "      <th>name_education_type</th>\n",
       "      <th>name_family_status</th>\n",
       "      <th>name_housing_type</th>\n",
       "      <th>days_birth</th>\n",
       "      <th>days_employed</th>\n",
       "      <th>flag_mobil</th>\n",
       "      <th>flag_work_phone</th>\n",
       "      <th>flag_phone</th>\n",
       "      <th>flag_email</th>\n",
       "      <th>occupation_type</th>\n",
       "      <th>cnt_fam_members</th>\n",
       "      <th>years_employed</th>\n",
       "    </tr>\n",
       "  </thead>\n",
       "  <tbody>\n",
       "    <tr>\n",
       "      <th>190332</th>\n",
       "      <td>5873064</td>\n",
       "      <td>1</td>\n",
       "      <td>0</td>\n",
       "      <td>0</td>\n",
       "      <td>0</td>\n",
       "      <td>112500.0</td>\n",
       "      <td>Pensioner</td>\n",
       "      <td>Secondary / secondary special</td>\n",
       "      <td>Married</td>\n",
       "      <td>House / apartment</td>\n",
       "      <td>-20918</td>\n",
       "      <td>365243</td>\n",
       "      <td>1</td>\n",
       "      <td>0</td>\n",
       "      <td>0</td>\n",
       "      <td>0</td>\n",
       "      <td>Core staff</td>\n",
       "      <td>2.0</td>\n",
       "      <td>0.0</td>\n",
       "    </tr>\n",
       "    <tr>\n",
       "      <th>322430</th>\n",
       "      <td>6276667</td>\n",
       "      <td>1</td>\n",
       "      <td>1</td>\n",
       "      <td>1</td>\n",
       "      <td>0</td>\n",
       "      <td>135000.0</td>\n",
       "      <td>Working</td>\n",
       "      <td>Secondary / secondary special</td>\n",
       "      <td>Single / not married</td>\n",
       "      <td>With parents</td>\n",
       "      <td>-8155</td>\n",
       "      <td>-652</td>\n",
       "      <td>1</td>\n",
       "      <td>0</td>\n",
       "      <td>0</td>\n",
       "      <td>1</td>\n",
       "      <td>Sales staff</td>\n",
       "      <td>1.0</td>\n",
       "      <td>1.8</td>\n",
       "    </tr>\n",
       "    <tr>\n",
       "      <th>294248</th>\n",
       "      <td>6154385</td>\n",
       "      <td>1</td>\n",
       "      <td>0</td>\n",
       "      <td>1</td>\n",
       "      <td>0</td>\n",
       "      <td>450000.0</td>\n",
       "      <td>Commercial associate</td>\n",
       "      <td>Secondary / secondary special</td>\n",
       "      <td>Married</td>\n",
       "      <td>House / apartment</td>\n",
       "      <td>-23015</td>\n",
       "      <td>-2194</td>\n",
       "      <td>1</td>\n",
       "      <td>0</td>\n",
       "      <td>1</td>\n",
       "      <td>0</td>\n",
       "      <td>High skill tech staff</td>\n",
       "      <td>2.0</td>\n",
       "      <td>6.0</td>\n",
       "    </tr>\n",
       "    <tr>\n",
       "      <th>5157</th>\n",
       "      <td>5024657</td>\n",
       "      <td>1</td>\n",
       "      <td>0</td>\n",
       "      <td>1</td>\n",
       "      <td>0</td>\n",
       "      <td>135000.0</td>\n",
       "      <td>Working</td>\n",
       "      <td>Higher education</td>\n",
       "      <td>Single / not married</td>\n",
       "      <td>House / apartment</td>\n",
       "      <td>-16988</td>\n",
       "      <td>-1434</td>\n",
       "      <td>1</td>\n",
       "      <td>1</td>\n",
       "      <td>1</td>\n",
       "      <td>0</td>\n",
       "      <td>Laborers</td>\n",
       "      <td>1.0</td>\n",
       "      <td>3.9</td>\n",
       "    </tr>\n",
       "    <tr>\n",
       "      <th>301168</th>\n",
       "      <td>6204477</td>\n",
       "      <td>0</td>\n",
       "      <td>1</td>\n",
       "      <td>1</td>\n",
       "      <td>0</td>\n",
       "      <td>112500.0</td>\n",
       "      <td>Pensioner</td>\n",
       "      <td>Lower secondary</td>\n",
       "      <td>Married</td>\n",
       "      <td>House / apartment</td>\n",
       "      <td>-22684</td>\n",
       "      <td>365243</td>\n",
       "      <td>1</td>\n",
       "      <td>0</td>\n",
       "      <td>1</td>\n",
       "      <td>0</td>\n",
       "      <td>Laborers</td>\n",
       "      <td>2.0</td>\n",
       "      <td>0.0</td>\n",
       "    </tr>\n",
       "    <tr>\n",
       "      <th>332272</th>\n",
       "      <td>6354109</td>\n",
       "      <td>0</td>\n",
       "      <td>1</td>\n",
       "      <td>1</td>\n",
       "      <td>0</td>\n",
       "      <td>126000.0</td>\n",
       "      <td>Commercial associate</td>\n",
       "      <td>Secondary / secondary special</td>\n",
       "      <td>Married</td>\n",
       "      <td>House / apartment</td>\n",
       "      <td>-20737</td>\n",
       "      <td>-1167</td>\n",
       "      <td>1</td>\n",
       "      <td>0</td>\n",
       "      <td>0</td>\n",
       "      <td>0</td>\n",
       "      <td>Security staff</td>\n",
       "      <td>2.0</td>\n",
       "      <td>3.2</td>\n",
       "    </tr>\n",
       "    <tr>\n",
       "      <th>168020</th>\n",
       "      <td>5792007</td>\n",
       "      <td>0</td>\n",
       "      <td>1</td>\n",
       "      <td>1</td>\n",
       "      <td>2</td>\n",
       "      <td>315000.0</td>\n",
       "      <td>Commercial associate</td>\n",
       "      <td>Higher education</td>\n",
       "      <td>Married</td>\n",
       "      <td>House / apartment</td>\n",
       "      <td>-12223</td>\n",
       "      <td>-1832</td>\n",
       "      <td>1</td>\n",
       "      <td>0</td>\n",
       "      <td>0</td>\n",
       "      <td>1</td>\n",
       "      <td>Managers</td>\n",
       "      <td>4.0</td>\n",
       "      <td>5.0</td>\n",
       "    </tr>\n",
       "    <tr>\n",
       "      <th>101173</th>\n",
       "      <td>5416645</td>\n",
       "      <td>1</td>\n",
       "      <td>0</td>\n",
       "      <td>0</td>\n",
       "      <td>0</td>\n",
       "      <td>157500.0</td>\n",
       "      <td>Pensioner</td>\n",
       "      <td>Higher education</td>\n",
       "      <td>Married</td>\n",
       "      <td>House / apartment</td>\n",
       "      <td>-22361</td>\n",
       "      <td>365243</td>\n",
       "      <td>1</td>\n",
       "      <td>0</td>\n",
       "      <td>1</td>\n",
       "      <td>0</td>\n",
       "      <td>Sales staff</td>\n",
       "      <td>2.0</td>\n",
       "      <td>0.0</td>\n",
       "    </tr>\n",
       "    <tr>\n",
       "      <th>208165</th>\n",
       "      <td>5929308</td>\n",
       "      <td>0</td>\n",
       "      <td>0</td>\n",
       "      <td>1</td>\n",
       "      <td>0</td>\n",
       "      <td>90000.0</td>\n",
       "      <td>Working</td>\n",
       "      <td>Secondary / secondary special</td>\n",
       "      <td>Single / not married</td>\n",
       "      <td>House / apartment</td>\n",
       "      <td>-12878</td>\n",
       "      <td>-2512</td>\n",
       "      <td>1</td>\n",
       "      <td>1</td>\n",
       "      <td>1</td>\n",
       "      <td>0</td>\n",
       "      <td>Laborers</td>\n",
       "      <td>1.0</td>\n",
       "      <td>6.9</td>\n",
       "    </tr>\n",
       "    <tr>\n",
       "      <th>382040</th>\n",
       "      <td>6612300</td>\n",
       "      <td>0</td>\n",
       "      <td>1</td>\n",
       "      <td>1</td>\n",
       "      <td>1</td>\n",
       "      <td>135000.0</td>\n",
       "      <td>Working</td>\n",
       "      <td>Secondary / secondary special</td>\n",
       "      <td>Married</td>\n",
       "      <td>House / apartment</td>\n",
       "      <td>-11386</td>\n",
       "      <td>-474</td>\n",
       "      <td>1</td>\n",
       "      <td>0</td>\n",
       "      <td>0</td>\n",
       "      <td>1</td>\n",
       "      <td>Cooking staff</td>\n",
       "      <td>3.0</td>\n",
       "      <td>1.3</td>\n",
       "    </tr>\n",
       "  </tbody>\n",
       "</table>\n",
       "</div>"
      ],
      "text/plain": [
       "             id  code_gender  flag_own_car  flag_own_realty  cnt_children  \\\n",
       "190332  5873064            1             0                0             0   \n",
       "322430  6276667            1             1                1             0   \n",
       "294248  6154385            1             0                1             0   \n",
       "5157    5024657            1             0                1             0   \n",
       "301168  6204477            0             1                1             0   \n",
       "332272  6354109            0             1                1             0   \n",
       "168020  5792007            0             1                1             2   \n",
       "101173  5416645            1             0                0             0   \n",
       "208165  5929308            0             0                1             0   \n",
       "382040  6612300            0             1                1             1   \n",
       "\n",
       "        amt_income_total      name_income_type            name_education_type  \\\n",
       "190332          112500.0             Pensioner  Secondary / secondary special   \n",
       "322430          135000.0               Working  Secondary / secondary special   \n",
       "294248          450000.0  Commercial associate  Secondary / secondary special   \n",
       "5157            135000.0               Working               Higher education   \n",
       "301168          112500.0             Pensioner                Lower secondary   \n",
       "332272          126000.0  Commercial associate  Secondary / secondary special   \n",
       "168020          315000.0  Commercial associate               Higher education   \n",
       "101173          157500.0             Pensioner               Higher education   \n",
       "208165           90000.0               Working  Secondary / secondary special   \n",
       "382040          135000.0               Working  Secondary / secondary special   \n",
       "\n",
       "          name_family_status  name_housing_type  days_birth  days_employed  \\\n",
       "190332               Married  House / apartment      -20918         365243   \n",
       "322430  Single / not married       With parents       -8155           -652   \n",
       "294248               Married  House / apartment      -23015          -2194   \n",
       "5157    Single / not married  House / apartment      -16988          -1434   \n",
       "301168               Married  House / apartment      -22684         365243   \n",
       "332272               Married  House / apartment      -20737          -1167   \n",
       "168020               Married  House / apartment      -12223          -1832   \n",
       "101173               Married  House / apartment      -22361         365243   \n",
       "208165  Single / not married  House / apartment      -12878          -2512   \n",
       "382040               Married  House / apartment      -11386           -474   \n",
       "\n",
       "        flag_mobil  flag_work_phone  flag_phone  flag_email  \\\n",
       "190332           1                0           0           0   \n",
       "322430           1                0           0           1   \n",
       "294248           1                0           1           0   \n",
       "5157             1                1           1           0   \n",
       "301168           1                0           1           0   \n",
       "332272           1                0           0           0   \n",
       "168020           1                0           0           1   \n",
       "101173           1                0           1           0   \n",
       "208165           1                1           1           0   \n",
       "382040           1                0           0           1   \n",
       "\n",
       "              occupation_type  cnt_fam_members  years_employed  \n",
       "190332             Core staff              2.0             0.0  \n",
       "322430            Sales staff              1.0             1.8  \n",
       "294248  High skill tech staff              2.0             6.0  \n",
       "5157                 Laborers              1.0             3.9  \n",
       "301168               Laborers              2.0             0.0  \n",
       "332272         Security staff              2.0             3.2  \n",
       "168020               Managers              4.0             5.0  \n",
       "101173            Sales staff              2.0             0.0  \n",
       "208165               Laborers              1.0             6.9  \n",
       "382040          Cooking staff              3.0             1.3  "
      ]
     },
     "execution_count": 31,
     "metadata": {},
     "output_type": "execute_result"
    }
   ],
   "source": [
    "data.sample(10)"
   ]
  },
  {
   "cell_type": "code",
   "execution_count": 32,
   "id": "467615e1",
   "metadata": {},
   "outputs": [],
   "source": [
    "data.drop('days_employed' , axis=1 , inplace = True)"
   ]
  },
  {
   "cell_type": "code",
   "execution_count": 33,
   "id": "719c7bae",
   "metadata": {},
   "outputs": [],
   "source": [
    "data['cnt_fam_members']=data['cnt_fam_members'].astype(int)"
   ]
  },
  {
   "cell_type": "code",
   "execution_count": 34,
   "id": "07686561",
   "metadata": {},
   "outputs": [
    {
     "data": {
      "text/plain": [
       "Index(['id', 'code_gender', 'flag_own_car', 'flag_own_realty', 'cnt_children',\n",
       "       'amt_income_total', 'name_income_type', 'name_education_type',\n",
       "       'name_family_status', 'name_housing_type', 'days_birth', 'flag_mobil',\n",
       "       'flag_work_phone', 'flag_phone', 'flag_email', 'occupation_type',\n",
       "       'cnt_fam_members', 'years_employed'],\n",
       "      dtype='object')"
      ]
     },
     "execution_count": 34,
     "metadata": {},
     "output_type": "execute_result"
    }
   ],
   "source": [
    "data.columns"
   ]
  },
  {
   "cell_type": "code",
   "execution_count": 35,
   "id": "0cb794a6",
   "metadata": {},
   "outputs": [],
   "source": [
    "data.drop(['flag_work_phone', 'flag_phone','days_birth', 'flag_phone'] , axis=1 , inplace=True)"
   ]
  },
  {
   "cell_type": "code",
   "execution_count": null,
   "id": "f5070c1e",
   "metadata": {},
   "outputs": [],
   "source": []
  },
  {
   "cell_type": "code",
   "execution_count": null,
   "id": "652a632f",
   "metadata": {},
   "outputs": [],
   "source": []
  },
  {
   "cell_type": "code",
   "execution_count": null,
   "id": "babba61b",
   "metadata": {},
   "outputs": [],
   "source": []
  },
  {
   "cell_type": "markdown",
   "id": "cbd6425d",
   "metadata": {},
   "source": [
    "# <font color='blue'> Data visualization"
   ]
  },
  {
   "cell_type": "code",
   "execution_count": 36,
   "id": "b576256f",
   "metadata": {},
   "outputs": [],
   "source": [
    "# data category\n",
    "def plot_cat(feature):\n",
    "    plt.figure(figsize=(10,5))\n",
    "    \n",
    "    plt.subplot(1,2,1)\n",
    "    \n",
    "    if data[feature].nunique()==2:\n",
    "        a=data[feature].value_counts()[0]\n",
    "        b=data[feature].value_counts()[1]\n",
    "        c=data[feature].value_counts().index\n",
    "        ax=plt.pie(x=[a,b] , labels=c ,autopct='%1.2f%%')\n",
    "        \n",
    "    elif data[feature].nunique()==3:\n",
    "        a=data[feature].value_counts()[0]\n",
    "        b=data[feature].value_counts()[1]\n",
    "        c=data[feature].value_counts()[2]\n",
    "        d=data[feature].value_counts().index\n",
    "        ax=plt.pie(x=[a,b,c] , labels=d ,autopct='%1.2f%%')\n",
    "    else:\n",
    "        a=data[feature].value_counts()[0]\n",
    "        b=data[feature].value_counts()[1]\n",
    "        c=data[feature].value_counts()[2]\n",
    "        d=data[feature].value_counts()[3]\n",
    "        e=data[feature].value_counts().index\n",
    "        ax=plt.pie(x=[a,b,c,d] , labels=e ,autopct='%1.2f%%')\n",
    "        \n",
    "    plt.subplot(1,2,2)\n",
    "    ax=sns.countplot(x=data[feature],hue=data.code_gender)\n",
    "    plt.xticks(rotation=90)"
   ]
  },
  {
   "cell_type": "code",
   "execution_count": 37,
   "id": "59716f4d",
   "metadata": {},
   "outputs": [
    {
     "data": {
      "image/png": "[encoded data removed]",
      "text/plain": [
       "<Figure size 1000x500 with 2 Axes>"
      ]
     },
     "metadata": {},
     "output_type": "display_data"
    }
   ],
   "source": [
    "plot_cat('flag_own_car')"
   ]
  },
  {
   "cell_type": "code",
   "execution_count": 38,
   "id": "33e5ae4d",
   "metadata": {},
   "outputs": [
    {
     "data": {
      "image/png": "[encoded data removed]",
      "text/plain": [
       "<Figure size 1000x500 with 2 Axes>"
      ]
     },
     "metadata": {},
     "output_type": "display_data"
    }
   ],
   "source": [
    "plot_cat('flag_own_realty')"
   ]
  },
  {
   "cell_type": "code",
   "execution_count": 39,
   "id": "95c8aa29",
   "metadata": {},
   "outputs": [
    {
     "data": {
      "image/png": "[encoded data removed]",
      "text/plain": [
       "<Figure size 1000x500 with 2 Axes>"
      ]
     },
     "metadata": {},
     "output_type": "display_data"
    }
   ],
   "source": [
    "plot_cat('flag_email')"
   ]
  },
  {
   "cell_type": "code",
   "execution_count": 40,
   "id": "74d57536",
   "metadata": {},
   "outputs": [
    {
     "data": {
      "text/html": [
       "<div>\n",
       "<style scoped>\n",
       "    .dataframe tbody tr th:only-of-type {\n",
       "        vertical-align: middle;\n",
       "    }\n",
       "\n",
       "    .dataframe tbody tr th {\n",
       "        vertical-align: top;\n",
       "    }\n",
       "\n",
       "    .dataframe thead th {\n",
       "        text-align: right;\n",
       "    }\n",
       "</style>\n",
       "<table border=\"1\" class=\"dataframe\">\n",
       "  <thead>\n",
       "    <tr style=\"text-align: right;\">\n",
       "      <th></th>\n",
       "      <th>id</th>\n",
       "      <th>code_gender</th>\n",
       "      <th>flag_own_car</th>\n",
       "      <th>flag_own_realty</th>\n",
       "      <th>cnt_children</th>\n",
       "      <th>amt_income_total</th>\n",
       "      <th>name_income_type</th>\n",
       "      <th>name_education_type</th>\n",
       "      <th>name_family_status</th>\n",
       "      <th>name_housing_type</th>\n",
       "      <th>flag_mobil</th>\n",
       "      <th>flag_email</th>\n",
       "      <th>occupation_type</th>\n",
       "      <th>cnt_fam_members</th>\n",
       "      <th>years_employed</th>\n",
       "    </tr>\n",
       "  </thead>\n",
       "  <tbody>\n",
       "    <tr>\n",
       "      <th>260476</th>\n",
       "      <td>6071463</td>\n",
       "      <td>0</td>\n",
       "      <td>0</td>\n",
       "      <td>0</td>\n",
       "      <td>0</td>\n",
       "      <td>247500.0</td>\n",
       "      <td>State servant</td>\n",
       "      <td>Secondary / secondary special</td>\n",
       "      <td>Married</td>\n",
       "      <td>Municipal apartment</td>\n",
       "      <td>1</td>\n",
       "      <td>0</td>\n",
       "      <td>Core staff</td>\n",
       "      <td>2</td>\n",
       "      <td>9.6</td>\n",
       "    </tr>\n",
       "    <tr>\n",
       "      <th>354793</th>\n",
       "      <td>6471803</td>\n",
       "      <td>1</td>\n",
       "      <td>0</td>\n",
       "      <td>1</td>\n",
       "      <td>2</td>\n",
       "      <td>112500.0</td>\n",
       "      <td>State servant</td>\n",
       "      <td>Higher education</td>\n",
       "      <td>Married</td>\n",
       "      <td>House / apartment</td>\n",
       "      <td>1</td>\n",
       "      <td>0</td>\n",
       "      <td>Laborers</td>\n",
       "      <td>4</td>\n",
       "      <td>3.2</td>\n",
       "    </tr>\n",
       "  </tbody>\n",
       "</table>\n",
       "</div>"
      ],
      "text/plain": [
       "             id  code_gender  flag_own_car  flag_own_realty  cnt_children  \\\n",
       "260476  6071463            0             0                0             0   \n",
       "354793  6471803            1             0                1             2   \n",
       "\n",
       "        amt_income_total name_income_type            name_education_type  \\\n",
       "260476          247500.0    State servant  Secondary / secondary special   \n",
       "354793          112500.0    State servant               Higher education   \n",
       "\n",
       "       name_family_status    name_housing_type  flag_mobil  flag_email  \\\n",
       "260476            Married  Municipal apartment           1           0   \n",
       "354793            Married    House / apartment           1           0   \n",
       "\n",
       "       occupation_type  cnt_fam_members  years_employed  \n",
       "260476      Core staff                2             9.6  \n",
       "354793        Laborers                4             3.2  "
      ]
     },
     "execution_count": 40,
     "metadata": {},
     "output_type": "execute_result"
    }
   ],
   "source": [
    "data.sample(2)"
   ]
  },
  {
   "cell_type": "code",
   "execution_count": 41,
   "id": "9fb33159",
   "metadata": {},
   "outputs": [
    {
     "data": {
      "text/plain": [
       "id                     94133\n",
       "code_gender                2\n",
       "flag_own_car               2\n",
       "flag_own_realty            2\n",
       "cnt_children              12\n",
       "amt_income_total         866\n",
       "name_income_type           5\n",
       "name_education_type        5\n",
       "name_family_status         5\n",
       "name_housing_type          6\n",
       "flag_mobil                 1\n",
       "flag_email                 2\n",
       "occupation_type           18\n",
       "cnt_fam_members           13\n",
       "years_employed           430\n",
       "dtype: int64"
      ]
     },
     "execution_count": 41,
     "metadata": {},
     "output_type": "execute_result"
    }
   ],
   "source": [
    "data.nunique()"
   ]
  },
  {
   "cell_type": "code",
   "execution_count": 42,
   "id": "02ba5ba0",
   "metadata": {},
   "outputs": [],
   "source": [
    "def plot_num(feature):\n",
    "    plt.figure(figsize=(10,5))\n",
    "    plt.subplot(1,2,1)\n",
    "    sns.boxplot(y=data[feature] ,x=data.code_gender)\n",
    "    plt.subplot(1,2,2)\n",
    "    sns.histplot(x=data[feature] ,kde=True)"
   ]
  },
  {
   "cell_type": "code",
   "execution_count": 43,
   "id": "23e51378",
   "metadata": {},
   "outputs": [
    {
     "data": {
      "image/png": "[encoded data removed]",
      "text/plain": [
       "<Figure size 1000x500 with 2 Axes>"
      ]
     },
     "metadata": {},
     "output_type": "display_data"
    }
   ],
   "source": [
    "plot_num('years_employed')"
   ]
  },
  {
   "cell_type": "code",
   "execution_count": 44,
   "id": "d4f616ed",
   "metadata": {},
   "outputs": [
    {
     "data": {
      "image/png": "[encoded data removed]",
      "text/plain": [
       "<Figure size 1000x500 with 2 Axes>"
      ]
     },
     "metadata": {},
     "output_type": "display_data"
    }
   ],
   "source": [
    "plot_num('cnt_children')"
   ]
  },
  {
   "cell_type": "code",
   "execution_count": 45,
   "id": "30c5649c",
   "metadata": {},
   "outputs": [
    {
     "data": {
      "image/png": "[encoded data removed]",
      "text/plain": [
       "<Figure size 1000x500 with 2 Axes>"
      ]
     },
     "metadata": {},
     "output_type": "display_data"
    }
   ],
   "source": [
    "plot_num('amt_income_total')"
   ]
  },
  {
   "cell_type": "code",
   "execution_count": 48,
   "id": "aa16fe28",
   "metadata": {},
   "outputs": [],
   "source": [
    "data2=pd.read_csv('credit_record--.csv')"
   ]
  },
  {
   "cell_type": "code",
   "execution_count": 49,
   "id": "cff7db9a",
   "metadata": {},
   "outputs": [
    {
     "data": {
      "text/html": [
       "<div>\n",
       "<style scoped>\n",
       "    .dataframe tbody tr th:only-of-type {\n",
       "        vertical-align: middle;\n",
       "    }\n",
       "\n",
       "    .dataframe tbody tr th {\n",
       "        vertical-align: top;\n",
       "    }\n",
       "\n",
       "    .dataframe thead th {\n",
       "        text-align: right;\n",
       "    }\n",
       "</style>\n",
       "<table border=\"1\" class=\"dataframe\">\n",
       "  <thead>\n",
       "    <tr style=\"text-align: right;\">\n",
       "      <th></th>\n",
       "      <th>ID</th>\n",
       "      <th>MONTHS_BALANCE</th>\n",
       "      <th>STATUS</th>\n",
       "    </tr>\n",
       "  </thead>\n",
       "  <tbody>\n",
       "    <tr>\n",
       "      <th>0</th>\n",
       "      <td>5001711</td>\n",
       "      <td>0</td>\n",
       "      <td>X</td>\n",
       "    </tr>\n",
       "    <tr>\n",
       "      <th>1</th>\n",
       "      <td>5001711</td>\n",
       "      <td>-1</td>\n",
       "      <td>0</td>\n",
       "    </tr>\n",
       "    <tr>\n",
       "      <th>2</th>\n",
       "      <td>5001711</td>\n",
       "      <td>-2</td>\n",
       "      <td>0</td>\n",
       "    </tr>\n",
       "    <tr>\n",
       "      <th>3</th>\n",
       "      <td>5001711</td>\n",
       "      <td>-3</td>\n",
       "      <td>0</td>\n",
       "    </tr>\n",
       "    <tr>\n",
       "      <th>4</th>\n",
       "      <td>5001712</td>\n",
       "      <td>0</td>\n",
       "      <td>C</td>\n",
       "    </tr>\n",
       "  </tbody>\n",
       "</table>\n",
       "</div>"
      ],
      "text/plain": [
       "        ID  MONTHS_BALANCE STATUS\n",
       "0  5001711               0      X\n",
       "1  5001711              -1      0\n",
       "2  5001711              -2      0\n",
       "3  5001711              -3      0\n",
       "4  5001712               0      C"
      ]
     },
     "execution_count": 49,
     "metadata": {},
     "output_type": "execute_result"
    }
   ],
   "source": [
    "data2.head()"
   ]
  },
  {
   "cell_type": "code",
   "execution_count": 51,
   "id": "656a8024",
   "metadata": {},
   "outputs": [],
   "source": [
    "data2.columns=data2.columns.str.lower()"
   ]
  },
  {
   "cell_type": "code",
   "execution_count": 53,
   "id": "a6ac2945",
   "metadata": {},
   "outputs": [
    {
     "data": {
      "text/plain": [
       "(220121, 17)"
      ]
     },
     "execution_count": 53,
     "metadata": {},
     "output_type": "execute_result"
    }
   ],
   "source": [
    "data = data.merge(data2,how='inner',on=['id'])\n",
    "data.shape"
   ]
  },
  {
   "cell_type": "code",
   "execution_count": 54,
   "id": "a76dfe1b",
   "metadata": {},
   "outputs": [
    {
     "data": {
      "text/html": [
       "<div>\n",
       "<style scoped>\n",
       "    .dataframe tbody tr th:only-of-type {\n",
       "        vertical-align: middle;\n",
       "    }\n",
       "\n",
       "    .dataframe tbody tr th {\n",
       "        vertical-align: top;\n",
       "    }\n",
       "\n",
       "    .dataframe thead th {\n",
       "        text-align: right;\n",
       "    }\n",
       "</style>\n",
       "<table border=\"1\" class=\"dataframe\">\n",
       "  <thead>\n",
       "    <tr style=\"text-align: right;\">\n",
       "      <th></th>\n",
       "      <th>id</th>\n",
       "      <th>code_gender</th>\n",
       "      <th>flag_own_car</th>\n",
       "      <th>flag_own_realty</th>\n",
       "      <th>cnt_children</th>\n",
       "      <th>amt_income_total</th>\n",
       "      <th>name_income_type</th>\n",
       "      <th>name_education_type</th>\n",
       "      <th>name_family_status</th>\n",
       "      <th>name_housing_type</th>\n",
       "      <th>flag_mobil</th>\n",
       "      <th>flag_email</th>\n",
       "      <th>occupation_type</th>\n",
       "      <th>cnt_fam_members</th>\n",
       "      <th>years_employed</th>\n",
       "      <th>months_balance</th>\n",
       "      <th>status</th>\n",
       "    </tr>\n",
       "  </thead>\n",
       "  <tbody>\n",
       "    <tr>\n",
       "      <th>118604</th>\n",
       "      <td>5089976</td>\n",
       "      <td>0</td>\n",
       "      <td>0</td>\n",
       "      <td>1</td>\n",
       "      <td>0</td>\n",
       "      <td>90000.0</td>\n",
       "      <td>Working</td>\n",
       "      <td>Secondary / secondary special</td>\n",
       "      <td>Married</td>\n",
       "      <td>House / apartment</td>\n",
       "      <td>1</td>\n",
       "      <td>0</td>\n",
       "      <td>Laborers</td>\n",
       "      <td>2</td>\n",
       "      <td>30.3</td>\n",
       "      <td>-30</td>\n",
       "      <td>C</td>\n",
       "    </tr>\n",
       "    <tr>\n",
       "      <th>13402</th>\n",
       "      <td>5022385</td>\n",
       "      <td>0</td>\n",
       "      <td>1</td>\n",
       "      <td>1</td>\n",
       "      <td>0</td>\n",
       "      <td>202500.0</td>\n",
       "      <td>Working</td>\n",
       "      <td>Secondary / secondary special</td>\n",
       "      <td>Married</td>\n",
       "      <td>House / apartment</td>\n",
       "      <td>1</td>\n",
       "      <td>0</td>\n",
       "      <td>Sales staff</td>\n",
       "      <td>2</td>\n",
       "      <td>0.3</td>\n",
       "      <td>-23</td>\n",
       "      <td>C</td>\n",
       "    </tr>\n",
       "    <tr>\n",
       "      <th>37379</th>\n",
       "      <td>5029767</td>\n",
       "      <td>1</td>\n",
       "      <td>0</td>\n",
       "      <td>1</td>\n",
       "      <td>0</td>\n",
       "      <td>112500.0</td>\n",
       "      <td>State servant</td>\n",
       "      <td>Secondary / secondary special</td>\n",
       "      <td>Married</td>\n",
       "      <td>House / apartment</td>\n",
       "      <td>1</td>\n",
       "      <td>0</td>\n",
       "      <td>Medicine staff</td>\n",
       "      <td>2</td>\n",
       "      <td>2.2</td>\n",
       "      <td>-34</td>\n",
       "      <td>C</td>\n",
       "    </tr>\n",
       "  </tbody>\n",
       "</table>\n",
       "</div>"
      ],
      "text/plain": [
       "             id  code_gender  flag_own_car  flag_own_realty  cnt_children  \\\n",
       "118604  5089976            0             0                1             0   \n",
       "13402   5022385            0             1                1             0   \n",
       "37379   5029767            1             0                1             0   \n",
       "\n",
       "        amt_income_total name_income_type            name_education_type  \\\n",
       "118604           90000.0          Working  Secondary / secondary special   \n",
       "13402           202500.0          Working  Secondary / secondary special   \n",
       "37379           112500.0    State servant  Secondary / secondary special   \n",
       "\n",
       "       name_family_status  name_housing_type  flag_mobil  flag_email  \\\n",
       "118604            Married  House / apartment           1           0   \n",
       "13402             Married  House / apartment           1           0   \n",
       "37379             Married  House / apartment           1           0   \n",
       "\n",
       "       occupation_type  cnt_fam_members  years_employed  months_balance status  \n",
       "118604        Laborers                2            30.3             -30      C  \n",
       "13402      Sales staff                2             0.3             -23      C  \n",
       "37379   Medicine staff                2             2.2             -34      C  "
      ]
     },
     "execution_count": 54,
     "metadata": {},
     "output_type": "execute_result"
    }
   ],
   "source": [
    "data.sample(3)"
   ]
  },
  {
   "cell_type": "code",
   "execution_count": 56,
   "id": "453bf618",
   "metadata": {},
   "outputs": [
    {
     "data": {
      "text/plain": [
       "id                     0\n",
       "code_gender            0\n",
       "flag_own_car           0\n",
       "flag_own_realty        0\n",
       "cnt_children           0\n",
       "amt_income_total       0\n",
       "name_income_type       0\n",
       "name_education_type    0\n",
       "name_family_status     0\n",
       "name_housing_type      0\n",
       "flag_mobil             0\n",
       "flag_email             0\n",
       "occupation_type        0\n",
       "cnt_fam_members        0\n",
       "years_employed         0\n",
       "months_balance         0\n",
       "status                 0\n",
       "dtype: int64"
      ]
     },
     "execution_count": 56,
     "metadata": {},
     "output_type": "execute_result"
    }
   ],
   "source": [
    "data.isna().sum()"
   ]
  },
  {
   "cell_type": "code",
   "execution_count": 59,
   "id": "ef7a5096",
   "metadata": {},
   "outputs": [],
   "source": [
    "# seprating categorical and numerical columns\n",
    "\n",
    "categorical_columns = []\n",
    "numerical_columns = []\n",
    "for i in data.columns:\n",
    "    if data[i].dtype==\"O\":\n",
    "        categorical_columns.append(i)\n",
    "    else:\n",
    "        numerical_columns.append(i)\n",
    "\n",
    "# removing target columns from list\n",
    "categorical_columns.remove(\"status\")"
   ]
  },
  {
   "cell_type": "code",
   "execution_count": 62,
   "id": "a2c0a036",
   "metadata": {},
   "outputs": [],
   "source": [
    "# labeling target 1---> Good 0---->Bad credit\n",
    "def convert(value):\n",
    "    if int(value) in (2,3,4,5):\n",
    "        target = 0\n",
    "    else:\n",
    "        target = 1\n",
    "    \n",
    "    return target\n",
    "# conveting target categorical value into numerical\n",
    "data.loc[data['status']=='C','status']=6\n",
    "data.loc[data['status']=='X','status']=7   \n",
    "\n",
    "\n",
    "data[\"status\"] =  data[\"status\"].map(convert)"
   ]
  },
  {
   "cell_type": "code",
   "execution_count": 70,
   "id": "c680f18e",
   "metadata": {},
   "outputs": [
    {
     "name": "stdout",
     "output_type": "stream",
     "text": [
      "name_income_type\n",
      "----------\n",
      "Working                 110282\n",
      "Commercial associate     53433\n",
      "Pensioner                39439\n",
      "State servant            16902\n",
      "Student                     65\n",
      "Name: name_income_type, dtype: int64\n",
      "****************************************************************************************************\n",
      "name_education_type\n",
      "----------\n",
      "Secondary / secondary special    152709\n",
      "Higher education                  56347\n",
      "Incomplete higher                  8042\n",
      "Lower secondary                    2836\n",
      "Academic degree                     187\n",
      "Name: name_education_type, dtype: int64\n",
      "****************************************************************************************************\n",
      "name_family_status\n",
      "----------\n",
      "Married                 150751\n",
      "Single / not married     28302\n",
      "Civil marriage           17948\n",
      "Separated                13420\n",
      "Widow                     9700\n",
      "Name: name_family_status, dtype: int64\n",
      "****************************************************************************************************\n",
      "name_housing_type\n",
      "----------\n",
      "House / apartment      198631\n",
      "With parents             9045\n",
      "Municipal apartment      7180\n",
      "Rented apartment         2713\n",
      "Office apartment         1695\n",
      "Co-op apartment           857\n",
      "Name: name_housing_type, dtype: int64\n",
      "****************************************************************************************************\n",
      "occupation_type\n",
      "----------\n",
      "Laborers                 56691\n",
      "Sales staff              30602\n",
      "Core staff               28109\n",
      "Managers                 26022\n",
      "Drivers                  21261\n",
      "High skill tech staff    12189\n",
      "Accountants              10085\n",
      "Medicine staff            9292\n",
      "Cooking staff             6387\n",
      "Security staff            5648\n",
      "Cleaning staff            4435\n",
      "Private service staff     3005\n",
      "Low-skill Laborers        1853\n",
      "Secretaries               1610\n",
      "Waiters/barmen staff      1355\n",
      "HR staff                   748\n",
      "IT staff                   498\n",
      "Realty agents              331\n",
      "Name: occupation_type, dtype: int64\n",
      "****************************************************************************************************\n"
     ]
    }
   ],
   "source": [
    "for value in categorical_columns:\n",
    "    print(value)\n",
    "    print('-'*10)\n",
    "    print(data[value].value_counts())\n",
    "    print('*'*100)"
   ]
  },
  {
   "cell_type": "code",
   "execution_count": 74,
   "id": "f940efa7",
   "metadata": {},
   "outputs": [
    {
     "name": "stdout",
     "output_type": "stream",
     "text": [
      "id\n",
      "----------\n",
      "5024978    61\n",
      "5033813    61\n",
      "5091512    61\n",
      "5105682    61\n",
      "5068573    61\n",
      "           ..\n",
      "5038727     1\n",
      "5135310     1\n",
      "5112867     1\n",
      "5052730     1\n",
      "5105233     1\n",
      "Name: id, Length: 9747, dtype: int64\n",
      "****************************************************************************************************\n",
      "code_gender\n",
      "----------\n",
      "1    143416\n",
      "0     76705\n",
      "Name: code_gender, dtype: int64\n",
      "****************************************************************************************************\n",
      "flag_own_car\n",
      "----------\n",
      "0    137597\n",
      "1     82524\n",
      "Name: flag_own_car, dtype: int64\n",
      "****************************************************************************************************\n",
      "flag_own_realty\n",
      "----------\n",
      "1    144996\n",
      "0     75125\n",
      "Name: flag_own_realty, dtype: int64\n",
      "****************************************************************************************************\n",
      "cnt_children\n",
      "----------\n",
      "0     156007\n",
      "1      41638\n",
      "2      18913\n",
      "3       2997\n",
      "4        363\n",
      "5        115\n",
      "14        59\n",
      "7         23\n",
      "19         6\n",
      "Name: cnt_children, dtype: int64\n",
      "****************************************************************************************************\n",
      "amt_income_total\n",
      "----------\n",
      "135000.0    25671\n",
      "180000.0    19229\n",
      "112500.0    18583\n",
      "157500.0    18086\n",
      "225000.0    16770\n",
      "            ...  \n",
      "134995.5        2\n",
      "74700.0         2\n",
      "190399.5        2\n",
      "612000.0        1\n",
      "560250.0        1\n",
      "Name: amt_income_total, Length: 263, dtype: int64\n",
      "****************************************************************************************************\n",
      "flag_mobil\n",
      "----------\n",
      "1    220121\n",
      "Name: flag_mobil, dtype: int64\n",
      "****************************************************************************************************\n",
      "flag_email\n",
      "----------\n",
      "0    201512\n",
      "1     18609\n",
      "Name: flag_email, dtype: int64\n",
      "****************************************************************************************************\n",
      "cnt_fam_members\n",
      "----------\n",
      "2     120055\n",
      "1      42714\n",
      "3      36288\n",
      "4      17667\n",
      "5       2839\n",
      "6        406\n",
      "7         64\n",
      "15        59\n",
      "9         23\n",
      "20         6\n",
      "Name: cnt_fam_members, dtype: int64\n",
      "****************************************************************************************************\n",
      "years_employed\n",
      "----------\n",
      "0.0     39039\n",
      "0.5      2665\n",
      "0.3      2596\n",
      "3.8      2525\n",
      "1.1      2522\n",
      "        ...  \n",
      "39.5        5\n",
      "37.6        5\n",
      "41.2        5\n",
      "29.0        4\n",
      "35.1        3\n",
      "Name: years_employed, Length: 352, dtype: int64\n",
      "****************************************************************************************************\n",
      "months_balance\n",
      "----------\n",
      "-1     6870\n",
      "-2     6841\n",
      "-3     6761\n",
      " 0     6743\n",
      "-4     6658\n",
      "       ... \n",
      "-56     506\n",
      "-57     396\n",
      "-58     309\n",
      "-59     198\n",
      "-60     100\n",
      "Name: months_balance, Length: 61, dtype: int64\n",
      "****************************************************************************************************\n"
     ]
    }
   ],
   "source": [
    "for value in numerical_columns:\n",
    "    print(value)\n",
    "    print('-'*10)\n",
    "    print(data[value].value_counts())\n",
    "    print('*'*100)"
   ]
  },
  {
   "cell_type": "code",
   "execution_count": 75,
   "id": "c5ad0dbf",
   "metadata": {},
   "outputs": [],
   "source": [
    "x=data.iloc[::-1]\n",
    "y=data['status']\n",
    "\n",
    "\n",
    "\n",
    "from sklearn.model_selection import train_test_split\n",
    "x_train, x_test, y_train, y_test = train_test_split(x, y, test_size=0.2, random_state=42)"
   ]
  },
  {
   "cell_type": "code",
   "execution_count": 78,
   "id": "9dd5d3f6",
   "metadata": {},
   "outputs": [
    {
     "data": {
      "text/plain": [
       "['name_income_type',\n",
       " 'name_education_type',\n",
       " 'name_family_status',\n",
       " 'name_housing_type',\n",
       " 'occupation_type']"
      ]
     },
     "execution_count": 78,
     "metadata": {},
     "output_type": "execute_result"
    }
   ],
   "source": [
    "categorical_columns"
   ]
  },
  {
   "cell_type": "code",
   "execution_count": 79,
   "id": "96e04c61",
   "metadata": {},
   "outputs": [
    {
     "data": {
      "text/plain": [
       "['id',\n",
       " 'code_gender',\n",
       " 'flag_own_car',\n",
       " 'flag_own_realty',\n",
       " 'cnt_children',\n",
       " 'amt_income_total',\n",
       " 'flag_mobil',\n",
       " 'flag_email',\n",
       " 'cnt_fam_members',\n",
       " 'years_employed',\n",
       " 'months_balance']"
      ]
     },
     "execution_count": 79,
     "metadata": {},
     "output_type": "execute_result"
    }
   ],
   "source": [
    "numerical_columns"
   ]
  },
  {
   "cell_type": "markdown",
   "id": "b5787b50",
   "metadata": {},
   "source": [
    "# <font color='blue'> Data Preprocessing"
   ]
  },
  {
   "cell_type": "code",
   "execution_count": 76,
   "id": "a92cadf6",
   "metadata": {},
   "outputs": [],
   "source": [
    "\n",
    "from category_encoders import BinaryEncoder\n",
    "from sklearn.impute import SimpleImputer\n",
    "from sklearn.preprocessing import StandardScaler\n",
    "from sklearn.pipeline import Pipeline\n",
    "from sklearn.preprocessing import OneHotEncoder\n",
    "from sklearn.compose import ColumnTransformer"
   ]
  },
  {
   "cell_type": "code",
   "execution_count": 81,
   "id": "cb677e72",
   "metadata": {},
   "outputs": [],
   "source": [
    "# Preprocessing for numerical data\n",
    "numerical_transformer=Pipeline(steps=[\n",
    "    ('imputer',SimpleImputer()), ('scaler',StandardScaler())\n",
    "])\n",
    "\n",
    "# Preprocessing for categorical data\n",
    "categorical_transformer=Pipeline(steps=[\n",
    "    ('cat',OneHotEncoder())\n",
    "])\n",
    "\n",
    "# Bundle preprocessing for numerical and categorical data\n",
    "preprocessor = ColumnTransformer(\n",
    "    transformers=[\n",
    "        ('num', numerical_transformer, ['code_gender','flag_own_car','flag_own_realty',\n",
    "                                        'cnt_children','amt_income_total','flag_mobil','flag_email','cnt_fam_members',\n",
    "                                        'years_employed','months_balance']),\n",
    "        \n",
    "        ('cat', categorical_transformer, ['name_income_type',\n",
    "                                          'name_education_type','name_family_status',\n",
    "                                          'name_housing_type','occupation_type'])])    \n",
    "    \n",
    "x_train_preprocessed = preprocessor.fit_transform(x_train)\n",
    "x_test_preprocessed = preprocessor.transform(x_test)    "
   ]
  },
  {
   "cell_type": "code",
   "execution_count": 83,
   "id": "1b602f25",
   "metadata": {},
   "outputs": [
    {
     "data": {
      "text/plain": [
       "array([[ 0.73119477,  1.29188638,  0.7188521 , ...,  0.        ,\n",
       "         0.        ,  0.        ],\n",
       "       [ 0.73119477, -0.77406188,  0.7188521 , ...,  0.        ,\n",
       "         0.        ,  0.        ],\n",
       "       [ 0.73119477, -0.77406188,  0.7188521 , ...,  0.        ,\n",
       "         0.        ,  0.        ],\n",
       "       ...,\n",
       "       [-1.36762467, -0.77406188,  0.7188521 , ...,  0.        ,\n",
       "         0.        ,  0.        ],\n",
       "       [ 0.73119477, -0.77406188, -1.39110673, ...,  0.        ,\n",
       "         0.        ,  0.        ],\n",
       "       [-1.36762467, -0.77406188,  0.7188521 , ...,  0.        ,\n",
       "         1.        ,  0.        ]])"
      ]
     },
     "execution_count": 83,
     "metadata": {},
     "output_type": "execute_result"
    }
   ],
   "source": [
    "x_train_preprocessed"
   ]
  },
  {
   "cell_type": "markdown",
   "id": "e3b6e7d9",
   "metadata": {},
   "source": [
    "# <font color='blue'> Modeling"
   ]
  },
  {
   "cell_type": "code",
   "execution_count": 85,
   "id": "3fce409d",
   "metadata": {},
   "outputs": [
    {
     "name": "stdout",
     "output_type": "stream",
     "text": [
      "Accuracy Score: 0.9966155593412833\n"
     ]
    }
   ],
   "source": [
    "from sklearn.tree import DecisionTreeClassifier\n",
    "dt=DecisionTreeClassifier(criterion = 'gini')\n",
    "dt.fit(x_train_preprocessed,y_train)\n",
    "y_pred=dt.predict(x_test_preprocessed)\n",
    "\n",
    "# Use score method to get accuracy of model\n",
    "score=dt.score(x_test_preprocessed , y_test)\n",
    "print('Accuracy Score: {0}'.format(score))"
   ]
  },
  {
   "cell_type": "code",
   "execution_count": 86,
   "id": "bfe341c0",
   "metadata": {},
   "outputs": [
    {
     "name": "stdout",
     "output_type": "stream",
     "text": [
      "Accuracy Score: 0.9949574105621806\n"
     ]
    }
   ],
   "source": [
    "from sklearn.ensemble import GradientBoostingClassifier\n",
    "clf = GradientBoostingClassifier(n_estimators=100, learning_rate=1.0,\n",
    "max_depth=1, random_state=0).fit(x_train_preprocessed, y_train)\n",
    "score=clf.score(x_test_preprocessed, y_test)\n",
    "print('Accuracy Score: {0}'.format(score))"
   ]
  },
  {
   "cell_type": "code",
   "execution_count": 87,
   "id": "c1082260",
   "metadata": {},
   "outputs": [
    {
     "name": "stderr",
     "output_type": "stream",
     "text": [
      "H:\\install anaconda\\lib\\site-packages\\sklearn\\linear_model\\_logistic.py:814: ConvergenceWarning: lbfgs failed to converge (status=1):\n",
      "STOP: TOTAL NO. of ITERATIONS REACHED LIMIT.\n",
      "\n",
      "Increase the number of iterations (max_iter) or scale the data as shown in:\n",
      "    https://scikit-learn.org/stable/modules/preprocessing.html\n",
      "Please also refer to the documentation for alternative solver options:\n",
      "    https://scikit-learn.org/stable/modules/linear_model.html#logistic-regression\n",
      "  n_iter_i = _check_optimize_result(\n"
     ]
    },
    {
     "data": {
      "text/plain": [
       "0.9949574105621806"
      ]
     },
     "execution_count": 87,
     "metadata": {},
     "output_type": "execute_result"
    }
   ],
   "source": [
    "from sklearn.linear_model import LogisticRegression\n",
    "clf=LogisticRegression(random_state=1)\n",
    "clf.fit(x_train_preprocessed,y_train)\n",
    "clf.score(x_test_preprocessed , y_test)"
   ]
  },
  {
   "cell_type": "code",
   "execution_count": 88,
   "id": "07900a0b",
   "metadata": {},
   "outputs": [
    {
     "name": "stdout",
     "output_type": "stream",
     "text": [
      "Accuracy Score: 0.9949574105621806\n"
     ]
    },
    {
     "name": "stderr",
     "output_type": "stream",
     "text": [
      "H:\\install anaconda\\lib\\site-packages\\sklearn\\linear_model\\_logistic.py:814: ConvergenceWarning: lbfgs failed to converge (status=1):\n",
      "STOP: TOTAL NO. of ITERATIONS REACHED LIMIT.\n",
      "\n",
      "Increase the number of iterations (max_iter) or scale the data as shown in:\n",
      "    https://scikit-learn.org/stable/modules/preprocessing.html\n",
      "Please also refer to the documentation for alternative solver options:\n",
      "    https://scikit-learn.org/stable/modules/linear_model.html#logistic-regression\n",
      "  n_iter_i = _check_optimize_result(\n"
     ]
    }
   ],
   "source": [
    "from sklearn.svm import SVC\n",
    "clf.fit(x_train_preprocessed, y_train)\n",
    "score = clf.score(x_test_preprocessed, y_test)\n",
    "print('Accuracy Score: {0}'.format(score))"
   ]
  },
  {
   "cell_type": "code",
   "execution_count": 94,
   "id": "f8d9a56d",
   "metadata": {},
   "outputs": [
    {
     "data": {
      "text/plain": [
       "<AxesSubplot:xlabel='status', ylabel='cnt_children'>"
      ]
     },
     "execution_count": 94,
     "metadata": {},
     "output_type": "execute_result"
    },
    {
     "data": {
      "image/png": "[encoded data removed]",
      "text/plain": [
       "<Figure size 640x480 with 1 Axes>"
      ]
     },
     "metadata": {},
     "output_type": "display_data"
    }
   ],
   "source": [
    "sns.scatterplot(x=data['status'], y=data['cnt_children'])"
   ]
  },
  {
   "cell_type": "code",
   "execution_count": 95,
   "id": "f521395d",
   "metadata": {},
   "outputs": [
    {
     "data": {
      "text/plain": [
       "<AxesSubplot:xlabel='status', ylabel='occupation_type'>"
      ]
     },
     "execution_count": 95,
     "metadata": {},
     "output_type": "execute_result"
    },
    {
     "data": {
      "image/png": "[encoded data removed]",
      "text/plain": [
       "<Figure size 640x480 with 1 Axes>"
      ]
     },
     "metadata": {},
     "output_type": "display_data"
    }
   ],
   "source": [
    "sns.scatterplot(x=data['status'], y=data['occupation_type'])"
   ]
  },
  {
   "cell_type": "code",
   "execution_count": null,
   "id": "becfce69",
   "metadata": {},
   "outputs": [],
   "source": []
  },
  {
   "cell_type": "code",
   "execution_count": null,
   "id": "97a1f21b",
   "metadata": {},
   "outputs": [],
   "source": []
  },
  {
   "cell_type": "code",
   "execution_count": null,
   "id": "bc569b75",
   "metadata": {},
   "outputs": [],
   "source": []
  },
  {
   "cell_type": "code",
   "execution_count": null,
   "id": "297aa684",
   "metadata": {},
   "outputs": [],
   "source": []
  },
  {
   "cell_type": "code",
   "execution_count": null,
   "id": "b60894f9",
   "metadata": {},
   "outputs": [],
   "source": []
  },
  {
   "cell_type": "code",
   "execution_count": null,
   "id": "dac37ad0",
   "metadata": {},
   "outputs": [],
   "source": []
  },
  {
   "cell_type": "code",
   "execution_count": null,
   "id": "fa8185a1",
   "metadata": {},
   "outputs": [],
   "source": []
  },
  {
   "cell_type": "code",
   "execution_count": null,
   "id": "aa525e3c",
   "metadata": {},
   "outputs": [],
   "source": []
  },
  {
   "cell_type": "code",
   "execution_count": null,
   "id": "0beb998e",
   "metadata": {},
   "outputs": [],
   "source": []
  },
  {
   "cell_type": "code",
   "execution_count": null,
   "id": "03d8030a",
   "metadata": {},
   "outputs": [],
   "source": []
  },
  {
   "cell_type": "code",
   "execution_count": null,
   "id": "bc165905",
   "metadata": {},
   "outputs": [],
   "source": []
  },
  {
   "cell_type": "code",
   "execution_count": null,
   "id": "78b01a8b",
   "metadata": {},
   "outputs": [],
   "source": []
  },
  {
   "cell_type": "code",
   "execution_count": null,
   "id": "9e3aa728",
   "metadata": {},
   "outputs": [],
   "source": []
  },
  {
   "cell_type": "code",
   "execution_count": null,
   "id": "c81edc38",
   "metadata": {},
   "outputs": [],
   "source": []
  }
 ],
 "metadata": {
  "kernelspec": {
   "display_name": "Python 3 (ipykernel)",
   "language": "python",
   "name": "python3"
  },
  "language_info": {
   "codemirror_mode": {
    "name": "ipython",
    "version": 3
   },
   "file_extension": ".py",
   "mimetype": "text/x-python",
   "name": "python",
   "nbconvert_exporter": "python",
   "pygments_lexer": "ipython3",
   "version": "3.9.13"
  }
 },
 "nbformat": 4,
 "nbformat_minor": 5
}
